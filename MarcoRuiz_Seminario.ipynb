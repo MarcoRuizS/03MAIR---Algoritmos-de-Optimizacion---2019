{
  "nbformat": 4,
  "nbformat_minor": 0,
  "metadata": {
    "colab": {
      "name": "MarcoRuiz_Seminario.ipynb",
      "provenance": [],
      "collapsed_sections": [],
      "include_colab_link": true
    },
    "kernelspec": {
      "name": "python3",
      "display_name": "Python 3"
    }
  },
  "cells": [
    {
      "cell_type": "markdown",
      "metadata": {
        "id": "view-in-github",
        "colab_type": "text"
      },
      "source": [
        "<a href=\"https://colab.research.google.com/github/MarcoRuizS/03MAIR---Algoritmos-de-Optimizacion---2019/blob/master/MarcoRuiz_Seminario.ipynb\" target=\"_parent\"><img src=\"https://colab.research.google.com/assets/colab-badge.svg\" alt=\"Open In Colab\"/></a>"
      ]
    },
    {
      "cell_type": "markdown",
      "metadata": {
        "id": "hVbXYX-RfPWh",
        "colab_type": "text"
      },
      "source": [
        "# Algoritmos de optimización - Seminario<br>\n",
        "Nombre y Apellidos: Marco X Ruiz S   <br>\n",
        "Url: https://colab.research.google.com/drive/1uJWAXyoOaf0ANQNcO-Am9zAevAsLZNsv<br>\n",
        "Problema: Combinar cifras y operaciones\n",
        "\n",
        "**Descripción del problema:**\n",
        "\n",
        "\n",
        "\n",
        "\n",
        "\n",
        "\n",
        "\n",
        "                                        "
      ]
    },
    {
      "cell_type": "markdown",
      "metadata": {
        "id": "y0UQF76aR2_6",
        "colab_type": "text"
      },
      "source": [
        "El problema consiste en analizar el siguiente problema y diseñar un algoritmo que lo resuelva.    \n",
        " • Disponemos de las 9 cifras del 1 al 9 (excluimos el cero) y de los 4 signos básicos de las operaciones fundamentales: suma(+), resta(-), multiplicación() y división(/)    \n",
        "  • Debemos combinarlos alternativamente sin repetir ninguno de ellos para obtener una cantidad dada. Un ejemplo sería para obtener el 4: 4+2-6/3*1 = 4\n",
        "\n",
        "Debe analizarse el problema para encontrar todos los valores enteros posibles planteando las siguientes cuestiones:"
      ]
    },
    {
      "cell_type": "markdown",
      "metadata": {
        "id": "3_-exlrTgLd-",
        "colab_type": "text"
      },
      "source": [
        "**¿Cuántas posibilidades hay sin tener en cuenta las restricciones <br>**\n",
        "\n",
        "**¿Cuántas posibilidades hay teniendo en cuenta todas las restricciones.**\n",
        "\n",
        "\n"
      ]
    },
    {
      "cell_type": "markdown",
      "metadata": {
        "id": "WfCUqJyKhPcw",
        "colab_type": "text"
      },
      "source": [
        "**Respuesta**"
      ]
    },
    {
      "cell_type": "markdown",
      "metadata": {
        "id": "FsTFvzP2SmgU",
        "colab_type": "text"
      },
      "source": [
        "La cantidad de posibilidades es directamente proporcional a la cantidad de combinaciones que se pueden obtener, primero tomo en cuenta la cantidad de elementos \"5 dígitos\" del 1 al 9. Combinaciones de n elementos tomados de r en r: \n",
        "\n",
        "posibles muestras sin orden de r elementos distintos que se pueden extraer de un conjunto de n elementos (r≤n).\n",
        "\n",
        "n=9 , r=5\n",
        "\n",
        "$$\n",
        "   C_n^r =\\frac{n!}{r!(n-r)!} \n",
        "$$\n",
        "<br>\n",
        "$$\n",
        "   C_9^5 =\\frac{9!}{5!(9-5)!} = 126\\\n",
        "$$\n",
        "\n",
        "A esto considere la cantidad de combinaciones que se forman con los 5 numeros:\n",
        "\n",
        "$$\n",
        "   5! = 120\n",
        "$$\n",
        "\n",
        "El siguiente punto a considerar son las cantidad de operaciones (suma, resta, multiplicacion y division), un conjunto de 4 elementos\n",
        "\n",
        "$$\n",
        "   4! = 24\n",
        "$$\n",
        "\n",
        "Como restricciones, los valores serán 5 números reales del 1 al 9, el valor ingresado debe ser entero, ademas no se puede repetir las operaciones matemáticas, ademas el problema se limita asi mismo por rango  máximo y mínimo. \n",
        "\n",
        "con estas consideraciones y las restricciones tenemos:\n",
        "\n",
        "**Por lo que se obtiene, posibles_soluciones = 126 * 120 * 24 = 362880**"
      ]
    },
    {
      "cell_type": "code",
      "metadata": {
        "id": "iq6Fe32MgpDX",
        "colab_type": "code",
        "colab": {
          "base_uri": "https://localhost:8080/",
          "height": 34
        },
        "outputId": "8e93a5fa-1bf1-43f9-dd02-dd747d904a4a"
      },
      "source": [
        "''''Algoritmo para obtener todos los posibles combinaciones de 5 elementos a partir del \n",
        "conjunto lista = ['1','2','3','4','5','6','7','8','9']''''\n",
        "\n",
        "#Los resultados se van agregando a una lista de combinaciones posibles\n",
        "lista_combinaciones = []\n",
        "''' L= Lista 1 al 9\n",
        "    n= numero de elementos de la lista\n",
        "    r= cantidad de numeros= 5\n",
        "    elem= lista de 5 elementos(5 numeros)\n",
        "    genero toda la cantidad de combinaciones posibles con 5 numeros, \n",
        "    n!/(r!(n-r)!) =  9!/(5!(9-5)!) = 126 '''\n",
        "\n",
        "def combinaciones(L, n, r, pos1, pos2, elem): \n",
        "    if(pos1 == r): \n",
        "        #Se almacena cada nuevo número en una lista parcial\n",
        "        parcial = []\n",
        "        for j in range(r): \n",
        "            parcial.append(elem[j])\n",
        "        #Cuando la lista parcial se ha recorrido completamente, se agrega a la lista de listas\n",
        "        lista_combinaciones.append(parcial)\n",
        "        return\n",
        "    else:\n",
        "        #Mientras el contador i sea menor que la longitud de la lista de elementos original\n",
        "        if(pos2 < n): \n",
        "            #Calcula el siguiente elemento y lo agrega a la lista temporal\n",
        "            elem[pos1] = L[pos2]\n",
        "            #Llama de manera recursiva la función para indice + 1 e indice\n",
        "            combinaciones(L, n, r, pos1 + 1, pos2 + 1, elem) \n",
        "            combinaciones(L, n, r, pos1, pos2 + 1, elem)\n",
        "            return #resultado\n",
        "\n",
        "lista = [str(i+1) for i in range(9)] #del 1 al 9 \n",
        "r = 5 #numero de elementos\n",
        "n = len(lista) # Numero de elementos = 9\n",
        "datos = list(range(r)) #Lista de 5 elementos\n",
        "combinaciones(lista, n, r, 0, 0, datos)\n",
        "# print(lista_combinaciones)\n",
        "print('Numeros de combinaciones del 1 al 9 con 5 numeros son: ', len(lista_combinaciones))"
      ],
      "execution_count": 1,
      "outputs": [
        {
          "output_type": "stream",
          "text": [
            "Numeros de combinaciones del 1 al 9 con 5 numeros son:  126\n"
          ],
          "name": "stdout"
        }
      ]
    },
    {
      "cell_type": "code",
      "metadata": {
        "id": "1sUAzTbkTZT6",
        "colab_type": "code",
        "colab": {}
      },
      "source": [
        "#Algoritmo para la obtención de todas las posibles permutaciones de una lista de n elementos\n",
        "#Recibe una lista y devuelve una lista de listas\n",
        "\n",
        "def permutacion(L):\n",
        "    if len(L)==2:\n",
        "        resultado = [[L[0],L[1]],[L[1],L[0]]]\n",
        "    else:\n",
        "        resultado = []\n",
        "        for i in range(len(L)):\n",
        "            A = L[:i] + L[i+1:]\n",
        "            #Procedimiento recursivo en el que A es L menos un elemento diferente cada vez\n",
        "            perm = permutacion(A) \n",
        "            for j in range(len(perm)):\n",
        "                res = [L[i]] + perm[j]\n",
        "                resultado.append(res)\n",
        "    return resultado"
      ],
      "execution_count": 0,
      "outputs": []
    },
    {
      "cell_type": "markdown",
      "metadata": {
        "id": "7vP_M6eHoDdQ",
        "colab_type": "text"
      },
      "source": [
        "Se verifica que la cantidad de permutaciones que coincida con el valor calculado teóricamente.\n",
        "Para un conjunto de n elementos, debe ser igual a n!. Por lo tanto, para cada subconjunto de 5 elementos, \n",
        "hay 5! = 120 posibilidades y para los operadores, hay 4! = 24 posibilidades."
      ]
    },
    {
      "cell_type": "code",
      "metadata": {
        "id": "k04saJSMT7AS",
        "colab_type": "code",
        "colab": {
          "base_uri": "https://localhost:8080/",
          "height": 51
        },
        "outputId": "93d32b76-ac6a-42bd-bdcb-06cd130d8cfd"
      },
      "source": [
        "conjunto_prueba = [str(i+1) for i in range(5)]\n",
        "operadores = ['+','-','*','/']\n",
        "\n",
        "print('La cantidad de permutaciones de', len(conjunto_prueba), 'digitos:', len(permutacion(conjunto_prueba)))\n",
        "print('La cantidad de permutaciones de los operadores matematicos son: ', len(permutacion(operadores)))"
      ],
      "execution_count": 33,
      "outputs": [
        {
          "output_type": "stream",
          "text": [
            "La cantidad de permutaciones de 5 digitos: 120\n",
            "La cantidad de permutaciones de los operadores matematicos son:  24\n"
          ],
          "name": "stdout"
        }
      ]
    },
    {
      "cell_type": "markdown",
      "metadata": {
        "id": "dzynfVJahHoY",
        "colab_type": "text"
      },
      "source": [
        "**Modelo para el espacio de soluciones<br>\n",
        "(*) ¿Cual es la estructura de datos que mejor se adapta al problema? Argumentalo.(Es posible que hayas elegido una al principio y veas la necesidad de cambiar, arguentalo)**\n"
      ]
    },
    {
      "cell_type": "markdown",
      "metadata": {
        "id": "xFIJrOwKi2Ti",
        "colab_type": "text"
      },
      "source": [
        "**Respuesta**"
      ]
    },
    {
      "cell_type": "markdown",
      "metadata": {
        "id": "C0AxROc-q7-P",
        "colab_type": "text"
      },
      "source": [
        "Al principio considere utilizar números enteros para resolver el problema pero considerando la estructura de datos, para el problema fue la mejor opcion utilizar datos tipo string, por el manejo de los operadores matemáticos necesario utilizar en la respuesta que se va a generar, ademas con la ayuda de \"eval\" que analiza y evalúa la expresión realizada en el ejercicio, \"shuffle\", para barajar aleatoriamente la lista, \"append\" para agrega argumento al final de una lista, fue una gran ayuda para evitar mas lineas de programa."
      ]
    },
    {
      "cell_type": "markdown",
      "metadata": {
        "id": "7Z9U2W7bi-XS",
        "colab_type": "text"
      },
      "source": [
        "**Según el modelo para el espacio de soluciones<br>**\n",
        "**(*)¿Cual es la función objetivo?**\n",
        "\n",
        "**(*)¿Es un problema de maximización o minimización?**"
      ]
    },
    {
      "cell_type": "markdown",
      "metadata": {
        "id": "hBalWLM7j1_d",
        "colab_type": "text"
      },
      "source": [
        "**Respuesta**"
      ]
    },
    {
      "cell_type": "markdown",
      "metadata": {
        "id": "_qiFPqsEuyX8",
        "colab_type": "text"
      },
      "source": [
        "La función objetivo es comparar el número ingresado para evaluar, con la expresión generada por los 5 elementos y los 4 operadores, si soy igual ya encontré la solución.\n",
        "\n",
        "El problema no se considera de maximización o minimización, más bien se considera un problema de búsqueda.\n",
        "\n"
      ]
    },
    {
      "cell_type": "markdown",
      "metadata": {
        "id": "rlnTYgY1j6I2",
        "colab_type": "text"
      },
      "source": [
        "**Diseña un algoritmo para resolver el problema por fuerza bruta**"
      ]
    },
    {
      "cell_type": "markdown",
      "metadata": {
        "id": "70rDgxYXkC8r",
        "colab_type": "text"
      },
      "source": [
        "**Respuesta**"
      ]
    },
    {
      "cell_type": "code",
      "metadata": {
        "id": "CJb5sQ0qkENy",
        "colab_type": "code",
        "colab": {
          "base_uri": "https://localhost:8080/",
          "height": 68
        },
        "outputId": "5045821c-6641-4ad4-c901-ab5377236ce0"
      },
      "source": [
        "operadores = ['+','-','*','/']\n",
        "permut_oper = permutacion(operadores)\n",
        "num_buscado= -70 #Este es el valor para el cual se van a buscar soluciones.\n",
        "valor_minimo_posible = 0\n",
        "valor_maximo_posible = 0\n",
        "soluciones = []\n",
        "valores = []\n",
        "\n",
        "f = open(\"soluciones.csv\",\"w+\")\n",
        "\n",
        "contador = 0\n",
        "\n",
        "for x in lista_combinaciones:\n",
        "    \n",
        "  ''' #y es una lista de 5 números\n",
        "      #z es una lista de 4 operadores\n",
        "      #Se crea una lista vacía de 9 elementos que se irá poblando con números y signos alternadamente'''\n",
        "\n",
        "  permutacion_x = permutacion(x)\n",
        "  for y in permutacion_x:\n",
        "      for z in permut_oper:\n",
        "\n",
        "          expresion = ['' for j in range(9)]\n",
        "          for i in range(5):\n",
        "              pos = 2*i\n",
        "              expresion[pos] = y[i]\n",
        "              if (pos+1)<len(expresion):\n",
        "                  expresion[pos+1] = z[i]\n",
        "          cadena = ''.join(expresion)\n",
        "          evaluacion = eval(cadena)\n",
        "\n",
        "          #Se agregan todas las soluciones y los valores respectivos para su posterior análisis \n",
        "          soluciones.append(cadena)\n",
        "          valores.append(evaluacion) #se evalua el valor y se compara porteriormente\n",
        "          linea = str(contador) + ';' + cadena + \";\" + str(evaluacion) + '\\n'\n",
        "          # Escribo la linea\n",
        "          f.write(linea)\n",
        "          #Se cuentan las iteraciones\n",
        "          contador += 1 \n",
        "          #busco el valor maximo y minimo posible\n",
        "          if evaluacion > valor_maximo_posible:\n",
        "              valor_maximo_posible = evaluacion\n",
        "          if evaluacion < valor_minimo_posible:\n",
        "              valor_minimo_posible = evaluacion\n",
        "          #si el valor es igual al numero buscado imprime\n",
        "          if eval(cadena)==num_buscado:\n",
        "              print('La solución es:' + cadena + ' = ' + str(num_buscado))             \n",
        "f.close\n",
        "\n",
        "print('Número de iteraciones modelo fuerza bruta: ' + str(contador))\n",
        "print('Máximo valor encontrado: ' + str(valor_maximo_posible))\n",
        "print('Mínimo valor encontrado: ' + str(valor_minimo_posible))\n"
      ],
      "execution_count": 31,
      "outputs": [
        {
          "output_type": "stream",
          "text": [
            "Número de iteraciones modelo fuerza bruta: 362880\n",
            "Máximo valor encontrado: 78.83333333333333\n",
            "Mínimo valor encontrado: -70.71428571428571\n"
          ],
          "name": "stdout"
        }
      ]
    },
    {
      "cell_type": "markdown",
      "metadata": {
        "id": "tgrnsC2nkFa8",
        "colab_type": "text"
      },
      "source": [
        "**Calcula la complejidad del algoritmo por fuerza bruta**"
      ]
    },
    {
      "cell_type": "markdown",
      "metadata": {
        "id": "9eUd3xwckP68",
        "colab_type": "text"
      },
      "source": [
        "**Respuesta**"
      ]
    },
    {
      "cell_type": "markdown",
      "metadata": {
        "id": "LvWGqwJVaeUZ",
        "colab_type": "text"
      },
      "source": [
        "El algoritmo de fuerza bruta para encontrar el resultado del problema, consiste en enumerar todos los posibles subconjuntos como las posibles permutaciones. La complejidad está definida por O(n!)."
      ]
    },
    {
      "cell_type": "markdown",
      "metadata": {
        "id": "txbrmLmskReM",
        "colab_type": "text"
      },
      "source": [
        "**(*)Diseña un algoritmo que mejore la complejidad del algortimo por fuerza bruta. Argumenta porque crees que mejora el algoritmo por fuerza bruta**"
      ]
    },
    {
      "cell_type": "markdown",
      "metadata": {
        "id": "hLrVwt5QkZPD",
        "colab_type": "text"
      },
      "source": [
        "**Respuesta**"
      ]
    },
    {
      "cell_type": "markdown",
      "metadata": {
        "id": "CVLKy5Woh7cF",
        "colab_type": "text"
      },
      "source": [
        "La resolución del Problema mediante fuerza bruta es una opcion no tan eficiente ya que requiere previamente el calculo de todas las posibilidades (362.880 posilidades). Toma do en cuenta que son 5 numeros que pide el problema del 1 al 9, con los 4 operadores, ademas Hay que calcular todos los posibles subconjuntos de 5 elementos a partir de la lista de 9 y para cada uno de ellos, y con ello las permutaciones que se forman. El algoritmo metaheuristico, mejora al método de fuerza bruta en el tiempo de ejecución, es mucho mas rapido y no tiene que calcular todas las soluciones antes de entregar un resultado, el inconveniente es que es un dato aleatorio y en algunos casos necesita más iteraciones para encontrar el resultado."
      ]
    },
    {
      "cell_type": "code",
      "metadata": {
        "id": "S2Ce3aP2jS3c",
        "colab_type": "code",
        "colab": {}
      },
      "source": [
        "import random\n",
        "\n",
        "def hallar_solucion(esperado, limite):\n",
        "    #esperado : valor ingresado para hallar la solución\n",
        "    #limite: limito el nuemro maximo de busqueda\n",
        "    conj = ['1','2','3','4','5','6','7','8','9']\n",
        "    oper = ['+','-','*','/']\n",
        "\n",
        "    max = 0\n",
        "    min = 0\n",
        "# los valores maximos y minimos son 78.83333333333333  y -70.71428571428571\n",
        "#valido el rango \n",
        "    if (esperado > 78.83333333333333) or (esperado < -70.71428571428571):\n",
        "        print('Valor fuera del rango [-70.71428571428571, 78.833333333333333]')\n",
        "    # si el valor no es entero    \n",
        "    elif not(esperado==int(esperado)):\n",
        "        print('El valor debe ser entero')\n",
        "    else: \n",
        "    # una vez validado genero el programa\n",
        "        resultado = esperado + 1\n",
        "        contador = 0\n",
        "        \n",
        "#         el bucle depende del resultado y el limite impuesto\n",
        "        while (not(resultado == esperado)) and (contador<limite):\n",
        "            random.shuffle(conj)\n",
        "            random.shuffle(oper)\n",
        "            expresion = ['' for x in range(9)]\n",
        "            for i in range(5):\n",
        "                pos = 2*i\n",
        "                expresion[pos] = conj[i]\n",
        "                if (pos+1)<len(expresion):\n",
        "                    expresion[pos+1] = oper[i]\n",
        "            cadena = ''.join(expresion)\n",
        "            resultado = eval(cadena)\n",
        "            if resultado > max:\n",
        "                max = resultado\n",
        "            if resultado < min:\n",
        "                min = resultado\n",
        "            contador += 1\n",
        "        if eval(cadena)==esperado:\n",
        "            print('Solución generada:' + cadena + ' = ' + str(esperado))\n",
        "        else:\n",
        "            print('No se encontró solución después de ' + str(limite) + ' iteraciones.')\n",
        "        return(str(max),str(min),str(contador))"
      ],
      "execution_count": 0,
      "outputs": []
    },
    {
      "cell_type": "code",
      "metadata": {
        "id": "m1eyM21Vkabg",
        "colab_type": "code",
        "colab": {
          "base_uri": "https://localhost:8080/",
          "height": 85
        },
        "outputId": "ecc9dbeb-88ee-41a6-e365-937ceab9f947"
      },
      "source": [
        "a=hallar_solucion(60, 10000) # (numero a resolver, número de iteraciones)\n",
        "print('Valor máximo encontrado: ' + a[0])\n",
        "print('Valor mínimo encontrado: ' + a[1])\n",
        "print('Número de iteraciones: ' + a[2])"
      ],
      "execution_count": 18,
      "outputs": [
        {
          "output_type": "stream",
          "text": [
            "La solución es:8*7/1-5+9 = 60\n",
            "Valor máximo encontrado: 77.66666666666667\n",
            "Valor mínimo encontrado: -69.75\n",
            "Número de iteraciones: 3856\n"
          ],
          "name": "stdout"
        }
      ]
    },
    {
      "cell_type": "markdown",
      "metadata": {
        "id": "eGDB4K6uk1iN",
        "colab_type": "text"
      },
      "source": [
        "**(*)Calcula la complejidad del algoritmo**"
      ]
    },
    {
      "cell_type": "markdown",
      "metadata": {
        "id": "NhpTh_BPk1ms",
        "colab_type": "text"
      },
      "source": [
        "**Respuesta**"
      ]
    },
    {
      "cell_type": "markdown",
      "metadata": {
        "id": "ps5IOTjExfDY",
        "colab_type": "text"
      },
      "source": [
        "La complejidad es de orden n, la máxima complejidad del algoritmo depende la cantidad de iteraciones, multiplicada por n más un número de operaciones elementales (O(n)), comparando con la complejidad de la fuerza bruta es mucho mejor.\n"
      ]
    },
    {
      "cell_type": "markdown",
      "metadata": {
        "id": "3M6QjTsSkmYe",
        "colab_type": "text"
      },
      "source": [
        "**Según el problema (y tenga sentido), diseña un juego de datos de entrada aleatorios**"
      ]
    },
    {
      "cell_type": "markdown",
      "metadata": {
        "id": "Jc3_OlyNkvjZ",
        "colab_type": "text"
      },
      "source": [
        "**Respuesta**"
      ]
    },
    {
      "cell_type": "code",
      "metadata": {
        "id": "sJ-N2etjkyWc",
        "colab_type": "code",
        "colab": {
          "base_uri": "https://localhost:8080/",
          "height": 34
        },
        "outputId": "aa953348-dc3b-4f9e-b803-a0ac2f5b476a"
      },
      "source": [
        "from random import randint\n",
        "#Genero un rango acorde al maximo y minimo\n",
        "numero_prueba = randint(-70, 78)\n",
        "print('El número de prueba aleatorio es: ',numero_prueba)\n",
        "iteraciones = 15000"
      ],
      "execution_count": 26,
      "outputs": [
        {
          "output_type": "stream",
          "text": [
            "El número de prueba aleatorio es:  64\n"
          ],
          "name": "stdout"
        }
      ]
    },
    {
      "cell_type": "markdown",
      "metadata": {
        "id": "zy5ZROmjlGo1",
        "colab_type": "text"
      },
      "source": [
        "**Aplica el algoritmo al juego de datos generado**"
      ]
    },
    {
      "cell_type": "markdown",
      "metadata": {
        "id": "_Cmj-PVylMsa",
        "colab_type": "text"
      },
      "source": [
        "**Respuesta**"
      ]
    },
    {
      "cell_type": "code",
      "metadata": {
        "id": "Jkx8GeiYlUz1",
        "colab_type": "code",
        "colab": {
          "base_uri": "https://localhost:8080/",
          "height": 85
        },
        "outputId": "43c43a51-5403-494d-e0dc-6c5180a0bd2d"
      },
      "source": [
        "print('El número a reslver aleatrio : ', numero_prueba)\n",
        "a=hallar_solucion(numero_prueba, iteraciones)\n",
        "print('Valor máximo encontrado: ' + a[0], 'en', a[2], 'iteraciones' )\n",
        "print('Valor mínimo encontrado: ' + a[1], 'en', a[2], 'iteraciones' )"
      ],
      "execution_count": 30,
      "outputs": [
        {
          "output_type": "stream",
          "text": [
            "El número a reslver aleatrio :  64\n",
            "Solución generada:4+7/1*9-3 = 64\n",
            "Valor máximo encontrado: 77.0 en 824 iteraciones\n",
            "Valor mínimo encontrado: -69.5 en 824 iteraciones\n"
          ],
          "name": "stdout"
        }
      ]
    },
    {
      "cell_type": "markdown",
      "metadata": {
        "colab_type": "text",
        "id": "eTFWUJQrtGcv"
      },
      "source": [
        "**Enumera las referencias que has utilizado(si ha sido necesario) para llevar a cabo el trabajo**"
      ]
    },
    {
      "cell_type": "markdown",
      "metadata": {
        "id": "YKQ_mRBttWsP",
        "colab_type": "text"
      },
      "source": [
        "**Respuesta**"
      ]
    },
    {
      "cell_type": "markdown",
      "metadata": {
        "id": "t8EQYdPUy7X_",
        "colab_type": "text"
      },
      "source": [
        "*   Fundamentos de algoritmia - G. Brassard & P. Bratley\n",
        "*   Algoritmos Heurísticos de la asignatura Algoritmos de Optimización, Dr. Raúl Reyero\n",
        "*   https://es.wikipedia.org/wiki/Combinatoria <br>    \n",
        "*   https://www.unirioja.es/talleres/creatividad_matematica/SeminarioBachillerato/COMBINATORIA.pdf\n",
        "*   https://www.geeksforgeeks.org/python-dictionary/\n"
      ]
    },
    {
      "cell_type": "markdown",
      "metadata": {
        "id": "kAkDPUyRtYyH",
        "colab_type": "text"
      },
      "source": [
        "**Describe brevemente las lineas de como crees que es posible avanzar en el estudio del problema. Ten en cuenta incluso posibles variaciones del problema y/o variaciones al alza del tamaño**"
      ]
    },
    {
      "cell_type": "markdown",
      "metadata": {
        "id": "IE0uZmo-tZu-",
        "colab_type": "text"
      },
      "source": [
        "**Respuesta**"
      ]
    },
    {
      "cell_type": "markdown",
      "metadata": {
        "id": "52-otYtz2jx6",
        "colab_type": "text"
      },
      "source": [
        "Considerando la variación en tamaño, el método de fuerza bruta quedaría limitado ya que por la complejidad que maneja llegaría a tiempos de ejecución muy largos, llegando a ser poco eficaz, en el caso del método metauristico por la complejidad lineal es mucho más eficaz, sería interesante jugar con valores y otras restricciones el problema podría llegar a ser un verdadero reto. "
      ]
    }
  ]
}