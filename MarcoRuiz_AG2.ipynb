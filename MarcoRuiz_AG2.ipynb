{
  "nbformat": 4,
  "nbformat_minor": 0,
  "metadata": {
    "colab": {
      "name": "MarcoRuiz_AG2.ipynb",
      "provenance": [],
      "collapsed_sections": [],
      "machine_shape": "hm",
      "authorship_tag": "ABX9TyMoZY0H184lMOFD4+YGEMYM",
      "include_colab_link": true
    },
    "kernelspec": {
      "name": "python3",
      "display_name": "Python 3"
    }
  },
  "cells": [
    {
      "cell_type": "markdown",
      "metadata": {
        "id": "view-in-github",
        "colab_type": "text"
      },
      "source": [
        "<a href=\"https://colab.research.google.com/github/MarcoRuizS/03MAIR---Algoritmos-de-Optimizacion---2019/blob/master/MarcoRuiz_AG2.ipynb\" target=\"_parent\"><img src=\"https://colab.research.google.com/assets/colab-badge.svg\" alt=\"Open In Colab\"/></a>"
      ]
    },
    {
      "cell_type": "markdown",
      "metadata": {
        "id": "h1Mc9GVU_0Ll",
        "colab_type": "text"
      },
      "source": [
        "Actividad Guiada 2    \n",
        "Algoritmos de Optimización    \n",
        "Nombre: Marco Ruiz <br>\n",
        "Link: https://colab.research.google.com/drive/1DGFIkZZqBfedTUi3q4sIvOBE9ezqnf5l <br>\n"
      ]
    },
    {
      "cell_type": "markdown",
      "metadata": {
        "id": "ZmfILeD9SYAK",
        "colab_type": "text"
      },
      "source": [
        "### Problema: Viaje por el rio"
      ]
    },
    {
      "cell_type": "code",
      "metadata": {
        "id": "bzoD2NsGBRk2",
        "colab_type": "code",
        "colab": {}
      },
      "source": [
        "# marca la distancia a cada punto\n",
        "# incluimos valores altos para que no sea unidireccional\n",
        "\n",
        "TARIFAS = [\n",
        "[0,5,4,3,999,999,999],\n",
        "[999,0,999,2,3,999,11],\n",
        "[999,999, 0,1,999,4,10],\n",
        "[999,999,999, 0,5,6,9],\n",
        "[999,999, 999,999,0,999,4],\n",
        "[999,999, 999,999,999,0,3],\n",
        "[999,999,999,999,999,999,0]\n",
        "]"
      ],
      "execution_count": 0,
      "outputs": []
    },
    {
      "cell_type": "code",
      "metadata": {
        "id": "yMAvQuPdCY6C",
        "colab_type": "code",
        "colab": {}
      },
      "source": [
        "def Precios(TARIFAS):\n",
        "################################################################  \n",
        "  #Total de Nodos\n",
        "  N = len(TARIFAS[0])\n",
        "  \n",
        "  #Inicialización de la tabla de precios\n",
        "  PRECIOS = [ [9999]*N for i in [9999]*N] # n x n\n",
        "  RUTA = [ [\"\"]*N for i in [\"\"]*N] # recorremos todos los nodos\n",
        "  \n",
        "  for i in range(N-1): #Calculo lo que me cuesta ir de i a j\n",
        "    for j in range(i+1, N):\n",
        "      MIN = TARIFAS[i][j]\n",
        "      RUTA[i][j] = i\n",
        "      \n",
        "      for k in range(i, j): # valores intermedios de i a j\n",
        "        if PRECIOS[i][k] + TARIFAS[k][j] < MIN:\n",
        "            MIN = min(MIN, PRECIOS[i][k] + TARIFAS[k][j] )\n",
        "            RUTA[i][j] = k\n",
        "        PRECIOS[i][j] = MIN\n",
        "        \n",
        "  return PRECIOS,RUTA"
      ],
      "execution_count": 0,
      "outputs": []
    },
    {
      "cell_type": "code",
      "metadata": {
        "id": "TYtfnKn5FW8t",
        "colab_type": "code",
        "outputId": "1ec89a95-25a7-494b-89a3-a5e759f48b9f",
        "colab": {
          "base_uri": "https://localhost:8080/",
          "height": 306
        }
      },
      "source": [
        "PRECIOS,RUTA = Precios(TARIFAS)  \n",
        "#print(PRECIOS[0][6])\n",
        "\n",
        "print(\"PRECIOS\")\n",
        "for i in range(len(TARIFAS)):\n",
        "  print(PRECIOS[i])\n",
        "\n",
        "print(\"\\nRUTA\")  \n",
        "for i in range(len(TARIFAS)):\n",
        "  print(RUTA[i]) "
      ],
      "execution_count": 5,
      "outputs": [
        {
          "output_type": "stream",
          "text": [
            "PRECIOS\n",
            "[9999, 5, 4, 3, 8, 8, 11]\n",
            "[9999, 9999, 999, 2, 3, 8, 7]\n",
            "[9999, 9999, 9999, 1, 6, 4, 7]\n",
            "[9999, 9999, 9999, 9999, 5, 6, 9]\n",
            "[9999, 9999, 9999, 9999, 9999, 999, 4]\n",
            "[9999, 9999, 9999, 9999, 9999, 9999, 3]\n",
            "[9999, 9999, 9999, 9999, 9999, 9999, 9999]\n",
            "\n",
            "RUTA\n",
            "['', 0, 0, 0, 1, 2, 5]\n",
            "['', '', 1, 1, 1, 3, 4]\n",
            "['', '', '', 2, 3, 2, 5]\n",
            "['', '', '', '', 3, 3, 3]\n",
            "['', '', '', '', '', 4, 4]\n",
            "['', '', '', '', '', '', 5]\n",
            "['', '', '', '', '', '', '']\n"
          ],
          "name": "stdout"
        }
      ]
    },
    {
      "cell_type": "code",
      "metadata": {
        "id": "21WsvIjvFYZh",
        "colab_type": "code",
        "outputId": "67b5005b-555a-4874-a948-3401856c48aa",
        "colab": {
          "base_uri": "https://localhost:8080/",
          "height": 68
        }
      },
      "source": [
        "def calcular_ruta(RUTA, desde, hasta):\n",
        "  if desde == hasta:\n",
        "    #print(\"Ir a :\" + str(desde))\n",
        "    return desde \n",
        "  else:\n",
        "    return str(calcular_ruta(RUTA, desde, RUTA[desde][hasta])) +  ',' + str(RUTA[desde][hasta]) \n",
        "\n",
        "print(\"\\nLa ruta es:\")  \n",
        "calcular_ruta(RUTA, 0,6) "
      ],
      "execution_count": 28,
      "outputs": [
        {
          "output_type": "stream",
          "text": [
            "\n",
            "La ruta es:\n"
          ],
          "name": "stdout"
        },
        {
          "output_type": "execute_result",
          "data": {
            "text/plain": [
              "'0,0,2,5'"
            ]
          },
          "metadata": {
            "tags": []
          },
          "execution_count": 28
        }
      ]
    },
    {
      "cell_type": "markdown",
      "metadata": {
        "id": "jv3HeoeyS4M5",
        "colab_type": "text"
      },
      "source": [
        "### Problema: Asignación de tareas\n"
      ]
    },
    {
      "cell_type": "code",
      "metadata": {
        "id": "sKrCmtd2WKwa",
        "colab_type": "code",
        "colab": {}
      },
      "source": [
        "# El problema consiste en maximizar el rendimiento en cuanto a la asignación de N\n",
        "# tareas a N agentes. Cada tarea solo puede ser asignado a un agente. \n",
        "#Ramificacion y poda\n",
        "\n",
        "COSTES=[[11,12,18,40],\n",
        "        [14,15,13,22],\n",
        "        [11,17,19,23],\n",
        "        [17,14,20,28]]\n"
      ],
      "execution_count": 0,
      "outputs": []
    },
    {
      "cell_type": "code",
      "metadata": {
        "id": "OhJUnKWmWz0u",
        "colab_type": "code",
        "outputId": "01adc65b-b563-4be7-e404-c31e1c4ba0f0",
        "colab": {
          "base_uri": "https://localhost:8080/",
          "height": 34
        }
      },
      "source": [
        "#Función objetivo costo \n",
        "def valor(S,COSTES):\n",
        "  VALOR = 0\n",
        "  for i in range(len(S)):\n",
        "    VALOR += COSTES[S[i]][i] \n",
        "  return VALOR\n",
        "  \n",
        "valor((0, 1, 2, 3),COSTES)"
      ],
      "execution_count": 8,
      "outputs": [
        {
          "output_type": "execute_result",
          "data": {
            "text/plain": [
              "73"
            ]
          },
          "metadata": {
            "tags": []
          },
          "execution_count": 8
        }
      ]
    },
    {
      "cell_type": "code",
      "metadata": {
        "id": "gjjV9N2bXzx7",
        "colab_type": "code",
        "colab": {}
      },
      "source": [
        "#Coste inferior para soluciones parciales\n",
        "#  (1,3,) Se asigna la tarea 1 al agente 0 y la tarea 3 al agente 1\n",
        "\n",
        "def CI(S,COSTES):\n",
        "  VALOR = 0\n",
        "  #Valores establecidos\n",
        "  for i in range(len(S)):\n",
        "    VALOR += COSTES[i][S[i]] #costo de valor fijo y encontramos la inferior\n",
        "\n",
        "  #Estimacion\n",
        "  for i in range(  len(COSTES)   ):\n",
        "    if i not in S:\n",
        "      VALOR += min( [ COSTES[j][i] for j in range(len(S), len(COSTES))  ]) # \n",
        "  return VALOR"
      ],
      "execution_count": 0,
      "outputs": []
    },
    {
      "cell_type": "code",
      "metadata": {
        "id": "WG_P2H8qY7cP",
        "colab_type": "code",
        "colab": {}
      },
      "source": [
        "#Genera tantos hijos como como posibilidades haya para la siguiente elemento de la tupla\n",
        "#(0,) -> (0,1), (0,2), (0,3)\n",
        "def crear_hijos(NODO, N):\n",
        "  HIJOS = []\n",
        "  for i in range(N ):\n",
        "    if i not in NODO:\n",
        "      HIJOS.append({'s':NODO +(i,)    })\n",
        "  return HIJOS"
      ],
      "execution_count": 0,
      "outputs": []
    },
    {
      "cell_type": "code",
      "metadata": {
        "id": "djFEI5i0Zs2G",
        "colab_type": "code",
        "colab": {}
      },
      "source": [
        "def CS(S,COSTES):\n",
        "  VALOR = 0\n",
        "  #Valores establecidos\n",
        "  for i in range(len(S)):\n",
        "    VALOR += COSTES[i][S[i]]\n",
        "\n",
        "  #Estimacion\n",
        "  for i in range(  len(COSTES)   ):\n",
        "    if i not in S:\n",
        "      VALOR += max( [ COSTES[j][i] for j in range(len(S), len(COSTES))  ])\n",
        "  return VALOR"
      ],
      "execution_count": 0,
      "outputs": []
    },
    {
      "cell_type": "code",
      "metadata": {
        "id": "G9aMWMsuaGuH",
        "colab_type": "code",
        "colab": {}
      },
      "source": [
        "def ramificacion_y_poda(COSTES):\n",
        "#Construccion iterativa de soluciones(arbol). En cada etapa asignamos un agente(ramas).\n",
        "#Nodos del grafo  { s:(1,2),CI:3,CS:5  }\n",
        "  #print(COSTES)\n",
        "  DIMENSION = len(COSTES)  \n",
        "  MEJOR_SOLUCION=tuple( i for i in range(len(COSTES)) )\n",
        "  CotaSup = valor(MEJOR_SOLUCION,COSTES)\n",
        "  #print(\"Cota Superior:\", CotaSup)\n",
        "\n",
        "  NODOS=[]\n",
        "  NODOS.append({'s':(), 'ci':CI((),COSTES)    } )\n",
        "\n",
        "  iteracion = 0"
      ],
      "execution_count": 0,
      "outputs": []
    },
    {
      "cell_type": "code",
      "metadata": {
        "id": "zpXD_Jziax_F",
        "colab_type": "code",
        "outputId": "1d23ea68-d86b-4324-b016-08c9df230b36",
        "colab": {
          "base_uri": "https://localhost:8080/",
          "height": 255
        }
      },
      "source": [
        "def ramificacion_y_poda(COSTES):\n",
        "#Construccion iterativa de soluciones(arbol). En cada etapa asignamos un agente(ramas).\n",
        "#Nodos del grafo  { s:(1,2),CI:3,CS:5  }\n",
        "  #print(COSTES)\n",
        "  DIMENSION = len(COSTES)  \n",
        "  MEJOR_SOLUCION=tuple( i for i in range(len(COSTES)) )\n",
        "  CotaSup = valor(MEJOR_SOLUCION,COSTES)\n",
        "  #print(\"Cota Superior:\", CotaSup)\n",
        "\n",
        "  NODOS=[]\n",
        "  NODOS.append({'s':(), 'ci':CI((),COSTES)    } )\n",
        "\n",
        "  iteracion = 0\n",
        "\n",
        "  while( len(NODOS) > 0):\n",
        "    iteracion +=1\n",
        "\n",
        "    nodo_prometedor = [ min(NODOS, key=lambda x:x['ci']) ][0]['s']\n",
        "    #print(\"Nodo prometedor:\", nodo_prometedor)\n",
        "\n",
        "    #Ramificacion\n",
        "    #Se generan los hijos\n",
        "    HIJOS =[ {'s':x['s'], 'ci':CI(x['s'], COSTES)   } for x in crear_hijos(nodo_prometedor, DIMENSION) ]\n",
        "\n",
        "    #Revisamos la cota superior y nos quedamos con la mejor solucion si llegamos a una solucion final\n",
        "    NODO_FINAL = [x for x in HIJOS if len(x['s']) == DIMENSION  ]\n",
        "    if len(NODO_FINAL ) >0: \n",
        "      #print(\"\\n********Soluciones:\",  [x for x in HIJOS if len(x['s']) == DIMENSION  ] )\n",
        "      if NODO_FINAL[0]['ci'] < CotaSup:\n",
        "        CotaSup = NODO_FINAL[0]['ci']\n",
        "        MEJOR_SOLUCION = NODO_FINAL\n",
        " \n",
        "    #Poda\n",
        "    HIJOS = [x for x in HIJOS if x['ci'] < CotaSup   ]\n",
        "\n",
        "    #Añadimos los hijos \n",
        "    NODOS.extend(HIJOS) \n",
        "\n",
        "    #Eliminamos el nodo ramificado\n",
        "    NODOS =  [  x for x in NODOS if x['s'] != nodo_prometedor    ]\n",
        "   \n",
        "    print(\"La solucion final es:\" ,MEJOR_SOLUCION , \" en \" , iteracion , \" iteraciones\" , \" para dimension: \" ,DIMENSION  )\n",
        "      \n",
        "\n",
        "\n",
        "ramificacion_y_poda(COSTES)\n",
        "\n"
      ],
      "execution_count": 9,
      "outputs": [
        {
          "output_type": "stream",
          "text": [
            "La solucion final es: (0, 1, 2, 3)  en  1  iteraciones  para dimension:  4\n",
            "La solucion final es: (0, 1, 2, 3)  en  2  iteraciones  para dimension:  4\n",
            "La solucion final es: (0, 1, 2, 3)  en  3  iteraciones  para dimension:  4\n",
            "La solucion final es: (0, 1, 2, 3)  en  4  iteraciones  para dimension:  4\n",
            "La solucion final es: (0, 1, 2, 3)  en  5  iteraciones  para dimension:  4\n",
            "La solucion final es: [{'s': (0, 2, 3, 1), 'ci': 61}]  en  6  iteraciones  para dimension:  4\n",
            "La solucion final es: [{'s': (0, 2, 3, 1), 'ci': 61}]  en  7  iteraciones  para dimension:  4\n",
            "La solucion final es: [{'s': (0, 2, 3, 1), 'ci': 61}]  en  8  iteraciones  para dimension:  4\n",
            "La solucion final es: [{'s': (0, 2, 3, 1), 'ci': 61}]  en  9  iteraciones  para dimension:  4\n",
            "La solucion final es: [{'s': (0, 2, 3, 1), 'ci': 61}]  en  10  iteraciones  para dimension:  4\n",
            "La solucion final es: [{'s': (0, 2, 3, 1), 'ci': 61}]  en  11  iteraciones  para dimension:  4\n",
            "La solucion final es: [{'s': (0, 2, 3, 1), 'ci': 61}]  en  12  iteraciones  para dimension:  4\n",
            "La solucion final es: [{'s': (0, 2, 3, 1), 'ci': 61}]  en  13  iteraciones  para dimension:  4\n",
            "La solucion final es: [{'s': (0, 2, 3, 1), 'ci': 61}]  en  14  iteraciones  para dimension:  4\n"
          ],
          "name": "stdout"
        }
      ]
    },
    {
      "cell_type": "markdown",
      "metadata": {
        "id": "ApsJfmvC_Vg7",
        "colab_type": "text"
      },
      "source": [
        "#### Fuerza Brutal"
      ]
    },
    {
      "cell_type": "code",
      "metadata": {
        "id": "inZAx4-Y_Qwl",
        "colab_type": "code",
        "colab": {}
      },
      "source": [
        "# @calcular_Tiempo\n",
        "from itertools import *\n",
        "\n",
        "def fuerza_bruta(COSTES):\n",
        "#Representacion de la solucion sera una tupla donde cada valor en la coordenada i-sima es la tarea asignado al gente i \n",
        "#Cuantas posibilidades hay? Complejidad factorial(exponencial)\n",
        "#con dimension 11 se va a 1 minuto de ejecucion\n",
        "\n",
        "    mejor_valor = 10e10\n",
        "    mejor_solucion = ()\n",
        "\n",
        "    for s in list(permutations(range(len(COSTES)))):\n",
        "#         print(s,valor(s,COSTES))\n",
        "        valor_tmp=valor(s,COSTES)\n",
        "        if valor_tmp < mejor_valor:\n",
        "            mejor_valor+valor_tmp\n",
        "            mejor_solucion=s\n",
        "\n",
        "    print ('La mejor solucion es:', mejor_solucion, 'con valor:', mejor_valor)\n",
        "    "
      ],
      "execution_count": 0,
      "outputs": []
    },
    {
      "cell_type": "markdown",
      "metadata": {
        "id": "xqQTtLY5XdT5",
        "colab_type": "text"
      },
      "source": [
        "##### Dimensión 5 x 5"
      ]
    },
    {
      "cell_type": "code",
      "metadata": {
        "id": "rQnEvRgV_mq1",
        "colab_type": "code",
        "colab": {
          "base_uri": "https://localhost:8080/",
          "height": 136
        },
        "outputId": "6308515d-9e41-4a1a-878d-0281b9487944"
      },
      "source": [
        "import numpy as np\n",
        "import time\n",
        "\n",
        "COSTES = np.random.random((5,5)) *100\n",
        "print(COSTES)\n",
        "\n",
        "start = time.time()\n",
        "fuerza_bruta(COSTES)\n",
        "end = time.time()\n",
        "\n",
        "print ('Tiempo de Procesamiento: ',end-start)"
      ],
      "execution_count": 30,
      "outputs": [
        {
          "output_type": "stream",
          "text": [
            "[[ 0.57164441 26.34144294 56.83287993  2.29308589  7.74277526]\n",
            " [60.92391635 47.70221166 46.31393023  7.74428213 74.82675595]\n",
            " [82.45500258 52.92689692 31.70550425 84.74977964 30.41332165]\n",
            " [45.56066802 52.62885501 64.75697331 54.57835879 92.10677896]\n",
            " [25.93641082 94.16120666 82.88002752 60.40110353  5.70602951]]\n",
            "La mejor solucion es: (4, 3, 2, 1, 0) con valor: 100000000000.0\n",
            "Tiempo de Procesamiento:  0.0015320777893066406\n"
          ],
          "name": "stdout"
        }
      ]
    },
    {
      "cell_type": "markdown",
      "metadata": {
        "id": "rxyCDtmiXsYO",
        "colab_type": "text"
      },
      "source": [
        "##### Dimensión 9 x 9"
      ]
    },
    {
      "cell_type": "code",
      "metadata": {
        "id": "bnuMVMq3UkDO",
        "colab_type": "code",
        "colab": {
          "base_uri": "https://localhost:8080/",
          "height": 357
        },
        "outputId": "eb51974f-74a2-46e7-a296-80a9ad242351"
      },
      "source": [
        "import numpy as np\n",
        "import time\n",
        "\n",
        "COSTES = np.random.random((9,9)) *100\n",
        "print(COSTES)\n",
        "\n",
        "start = time.time()\n",
        "fuerza_bruta(COSTES)\n",
        "end = time.time()\n",
        "\n",
        "print ('Tiempo de Procesamiento: ',end-start)"
      ],
      "execution_count": 31,
      "outputs": [
        {
          "output_type": "stream",
          "text": [
            "[[79.27412859 92.91166431  1.61513866 24.99436585 14.39436133 95.43769269\n",
            "  23.43110028 18.51229975 60.80338969]\n",
            " [ 9.53629547 70.08799706 94.59923318 76.56694706 29.48727619 28.85691163\n",
            "  75.19745473 77.88857708 26.58744824]\n",
            " [90.23450078 59.19705968 18.22018739 88.57243612 34.77703423  2.82003766\n",
            "  93.67034963 20.46331033 97.75820834]\n",
            " [43.93803656 40.81351857 34.60738849 31.71521497 81.66252171 58.15523802\n",
            "  42.7811715  37.01360422 47.92709251]\n",
            " [13.7538003  95.93298165 78.10956957 38.09962396 82.89471049 98.76287086\n",
            "  68.57044453 75.68799969 10.4418176 ]\n",
            " [10.22366183 39.66657629 80.42882856 77.4047211  81.10500094 40.92878962\n",
            "  39.83721964 19.26868007 46.48813109]\n",
            " [61.05715896 40.99910673 49.84425001 69.49766802 88.35046351 95.98237818\n",
            "  81.8974022  33.91832976 88.02976568]\n",
            " [94.4299446  20.82723644 94.27657071  1.60811918 48.63617419 65.73925549\n",
            "  61.89821588 69.44421773 93.81000415]\n",
            " [69.46566243 12.80012777 31.82240276 94.30823988 82.14491926 36.70842547\n",
            "  83.24139514 36.86678423  1.25033123]]\n",
            "La mejor solucion es: (8, 7, 6, 5, 4, 3, 2, 1, 0) con valor: 100000000000.0\n",
            "Tiempo de Procesamiento:  1.9079196453094482\n"
          ],
          "name": "stdout"
        }
      ]
    },
    {
      "cell_type": "markdown",
      "metadata": {
        "id": "L_NPFPYdXuwv",
        "colab_type": "text"
      },
      "source": [
        "##### Dimensión 11 x 11"
      ]
    },
    {
      "cell_type": "code",
      "metadata": {
        "id": "cjQ25RkiUlqm",
        "colab_type": "code",
        "colab": {
          "base_uri": "https://localhost:8080/",
          "height": 425
        },
        "outputId": "06916630-e579-4eb7-8750-db231b15eb17"
      },
      "source": [
        "import numpy as np\n",
        "import time\n",
        "\n",
        "COSTES = np.random.random((11,11)) *100\n",
        "print(COSTES)\n",
        "\n",
        "start = time.time()\n",
        "fuerza_bruta(COSTES)\n",
        "end = time.time()\n",
        "\n",
        "print ('Tiempo de Procesamiento: ',end-start)"
      ],
      "execution_count": 32,
      "outputs": [
        {
          "output_type": "stream",
          "text": [
            "[[98.31938596 83.56040329 70.15709468 40.21315814 70.42305259 52.96063858\n",
            "  90.70919688  2.6391552  34.03242213 81.85925309 13.86619584]\n",
            " [45.28596295 90.10665623  7.21613611 94.97552209 49.88795483 11.77226166\n",
            "  93.27658082 67.8834199  99.81501233 99.96710822 99.22692587]\n",
            " [70.27042859 43.20937333 59.72170821 81.0650764  95.15309317 21.15009691\n",
            "  88.64226499  0.46095027 10.65944004 22.43484257 29.75788386]\n",
            " [62.96043079 79.47146011  4.42738194 54.07739645 11.83236206 97.65805273\n",
            "  91.57398353 46.05406822 45.84589003  2.33416037 18.98024497]\n",
            " [97.2155466  25.48652095 13.52188499 11.58012537 95.20227263  1.27476994\n",
            "  87.64652409 63.43014358 21.78444908 89.13764413 89.90379   ]\n",
            " [49.84113677 91.2117334  93.24260809 66.14212256  5.50363311 50.01567328\n",
            "  78.3615478  91.82202034 48.3937085  41.88809576 39.91668834]\n",
            " [26.51167334 63.11482339 50.57670916 51.79332474  5.54948968 29.94315315\n",
            "  65.02330698 51.59617825 69.7964939  47.0199351  26.91104598]\n",
            " [56.82926222 90.92887436  6.3874887  26.83878102 84.14572555 77.08939699\n",
            "   1.56078113 23.39063836 11.7174536  94.02037224 22.92125701]\n",
            " [83.28668499  0.35407815 28.7466703  30.77370082 45.12747032 34.06357096\n",
            "  85.85280927 51.06416998 21.20696012 78.39581999 49.78370735]\n",
            " [42.05778389 59.98442501 19.11987911 77.65673921 77.8111444   9.05020511\n",
            "  21.86431934 92.12736807 83.86555011 65.29059717 16.52604107]\n",
            " [91.50694565 10.3294674  25.85464379 73.41337492 43.86871895 11.36552434\n",
            "  63.84357616 80.10856698 75.96510411 29.13948807 35.65931896]]\n",
            "La mejor solucion es: (10, 9, 8, 7, 6, 5, 4, 3, 2, 1, 0) con valor: 100000000000.0\n",
            "Tiempo de Procesamiento:  247.65321254730225\n"
          ],
          "name": "stdout"
        }
      ]
    },
    {
      "cell_type": "markdown",
      "metadata": {
        "id": "3UQBa3PqX3eG",
        "colab_type": "text"
      },
      "source": [
        "##### Grafica Tiempo De Ejecución  Vs Dimensión Del Costo"
      ]
    },
    {
      "cell_type": "code",
      "metadata": {
        "id": "tAZv4wlTJ_lf",
        "colab_type": "code",
        "colab": {
          "base_uri": "https://localhost:8080/",
          "height": 367
        },
        "outputId": "58cdf92c-8e2f-4615-d1e5-a50598e26072"
      },
      "source": [
        "import matplotlib.pyplot as plt\n",
        "import numpy as np\n",
        "from mpl_toolkits.mplot3d import axes3d\n",
        "Matriz=[0,1.889E-08,1.889E-07,0.000001889,0.00001889,0.0001889,0.001532,0.01889,0.1889,1.9079,18.895,247.65,1889.18890,188900,1889000,18890000,188900000,1889000000,18890000000]\n",
        "fig, ax=plt.subplots(figsize=(10,5))\n",
        "plt.plot(Matriz)\n",
        "\n",
        "ax.set_title('Grafica Tiempo De Ejecución  Vs Dimensión Del Costo')\n",
        "ax.set_ylabel('Tiempo')\n",
        "ax.set_xlabel('Dimensión')\n"
      ],
      "execution_count": 33,
      "outputs": [
        {
          "output_type": "execute_result",
          "data": {
            "text/plain": [
              "Text(0.5, 0, 'Dimensión')"
            ]
          },
          "metadata": {
            "tags": []
          },
          "execution_count": 33
        },
        {
          "output_type": "display_data",
          "data": {
            "image/png": "[encoded data removed]",
            "text/plain": [
              "<Figure size 720x360 with 1 Axes>"
            ]
          },
          "metadata": {
            "tags": []
          }
        }
      ]
    },
    {
      "cell_type": "markdown",
      "metadata": {
        "id": "mBcR2YwnGc-J",
        "colab_type": "text"
      },
      "source": [
        "Con dimensión 5 el tiempo de ejecución es de 0.001532     \n",
        "Con dimensión 8 el tiempo de ejecución es de 0.1884    \n",
        "Con dimensión 9 el tiempo de ejecución es de 1.9079  \n",
        "Con dimensión 10 el tiempo de ejecución es de 20.2124    \n",
        "Con dimensión 11 el tiempo de ejecución es de 247.6532   \n",
        "Con dimensión 12 el tiempo de ejecución es de 2400.87 \n",
        "\n",
        "La complejidad es exponencial por lo que pasado de la dimensión 12 del    \n",
        "costo se hace muy grande para ser una opción valida."
      ]
    }
  ]
}