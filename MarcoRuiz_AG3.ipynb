{
  "nbformat": 4,
  "nbformat_minor": 0,
  "metadata": {
    "colab": {
      "name": "MarcoRuiz_AG3.ipynb",
      "provenance": [],
      "collapsed_sections": [],
      "authorship_tag": "ABX9TyOnTCm9Mq2uMP3fDOcuurJ3",
      "include_colab_link": true
    },
    "kernelspec": {
      "name": "python3",
      "display_name": "Python 3"
    }
  },
  "cells": [
    {
      "cell_type": "markdown",
      "metadata": {
        "id": "view-in-github",
        "colab_type": "text"
      },
      "source": [
        "<a href=\"https://colab.research.google.com/github/MarcoRuizS/03MAIR---Algoritmos-de-Optimizacion---2019/blob/master/MarcoRuiz_AG3.ipynb\" target=\"_parent\"><img src=\"https://colab.research.google.com/assets/colab-badge.svg\" alt=\"Open In Colab\"/></a>"
      ]
    },
    {
      "cell_type": "markdown",
      "metadata": {
        "id": "X9t0o6doHqNs",
        "colab_type": "text"
      },
      "source": [
        "Nombre: Marco Ruiz    \n",
        "Link: https://colab.research.google.com/drive/18b0bJtX8bBa9_-KM4j-hVhJW53oQx91F <br>\n",
        "Actividad Guiada 3"
      ]
    },
    {
      "cell_type": "markdown",
      "metadata": {
        "id": "apXlzJekF17e",
        "colab_type": "text"
      },
      "source": [
        "**EL PROBLEMA DEL AGENTE VIAJERO <br> TSP. TSPLIB Juegos de datos para poner a prueba nuestros diseños.**\n"
      ]
    },
    {
      "cell_type": "code",
      "metadata": {
        "id": "x3mfzLcpIAek",
        "colab_type": "code",
        "outputId": "9b1a25ac-d64b-4c74-88fe-4a621f14c1f4",
        "colab": {
          "base_uri": "https://localhost:8080/",
          "height": 34
        }
      },
      "source": [
        "# !pip install requests #Liberia para hacer llamadas http(descargar páginas y ficheros)\n",
        "\n",
        "import urllib.request\n",
        "\n",
        "file = \"swiss42.tsp\"\n",
        "urllib.request.urlretrieve(\"http://elib.zib.de/pub/mp-testdata/tsp/tsplib/tsp/swiss42.tsp\", file)"
      ],
      "execution_count": 1,
      "outputs": [
        {
          "output_type": "execute_result",
          "data": {
            "text/plain": [
              "('swiss42.tsp', <http.client.HTTPMessage at 0x7f2320568b38>)"
            ]
          },
          "metadata": {
            "tags": []
          },
          "execution_count": 1
        }
      ]
    },
    {
      "cell_type": "code",
      "metadata": {
        "id": "EZ-i0n55KKAo",
        "colab_type": "code",
        "outputId": "b8747af2-226c-4360-f56c-af92f798cd23",
        "colab": {
          "base_uri": "https://localhost:8080/",
          "height": 156
        }
      },
      "source": [
        "!pip install tsplib95"
      ],
      "execution_count": 2,
      "outputs": [
        {
          "output_type": "stream",
          "text": [
            "Collecting tsplib95\n",
            "  Downloading https://files.pythonhosted.org/packages/dc/43/039c0621085202f19d6c12b06330bf109743083ce4024137b4713da9c40b/tsplib95-0.6.1-py2.py3-none-any.whl\n",
            "Requirement already satisfied: Click>=6.0 in /usr/local/lib/python3.6/dist-packages (from tsplib95) (7.0)\n",
            "Requirement already satisfied: networkx~=2.1 in /usr/local/lib/python3.6/dist-packages (from tsplib95) (2.4)\n",
            "Requirement already satisfied: decorator>=4.3.0 in /usr/local/lib/python3.6/dist-packages (from networkx~=2.1->tsplib95) (4.4.1)\n",
            "Installing collected packages: tsplib95\n",
            "Successfully installed tsplib95-0.6.1\n"
          ],
          "name": "stdout"
        }
      ]
    },
    {
      "cell_type": "code",
      "metadata": {
        "id": "ADMdmzkaKL1w",
        "colab_type": "code",
        "colab": {}
      },
      "source": [
        "import tsplib95\n",
        "import random\n",
        "import math"
      ],
      "execution_count": 0,
      "outputs": []
    },
    {
      "cell_type": "code",
      "metadata": {
        "id": "KUSKqECWKoNa",
        "colab_type": "code",
        "colab": {}
      },
      "source": [
        "#Datos del problema\n",
        "problem = tsplib95.load_problem(file)"
      ],
      "execution_count": 0,
      "outputs": []
    },
    {
      "cell_type": "markdown",
      "metadata": {
        "id": "Z529qIEYG8g_",
        "colab_type": "text"
      },
      "source": [
        "Numero de nodos y de aristas (42, del 0 al 41)"
      ]
    },
    {
      "cell_type": "code",
      "metadata": {
        "id": "Xq3A5EYIKxim",
        "colab_type": "code",
        "colab": {}
      },
      "source": [
        "# Nodos\n",
        "Nodos = list(problem.get_nodes())\n",
        "# Aristas\n",
        "Aristas = list(problem.get_edges())"
      ],
      "execution_count": 0,
      "outputs": []
    },
    {
      "cell_type": "code",
      "metadata": {
        "id": "dpgRncwIHEbk",
        "colab_type": "code",
        "colab": {
          "base_uri": "https://localhost:8080/",
          "height": 34
        },
        "outputId": "6472697c-0fb2-4e3f-e623-761f55b3ce19"
      },
      "source": [
        "Nodos\n",
        "# random.choice(list(set(Nodos)  - set([0])))\n",
        "list(set(Nodos)) # lista a tupla\n",
        "\n",
        "set(Nodos)-set([2]) #elimina el nodo \n",
        "\n",
        "problem.wfunc(0,41)"
      ],
      "execution_count": 6,
      "outputs": [
        {
          "output_type": "execute_result",
          "data": {
            "text/plain": [
              "124"
            ]
          },
          "metadata": {
            "tags": []
          },
          "execution_count": 6
        }
      ]
    },
    {
      "cell_type": "markdown",
      "metadata": {
        "id": "MCQVqBrPHJeY",
        "colab_type": "text"
      },
      "source": [
        "Fuerza Bruta complejidad:(n-1)!/2 ; n = 42 (No aplica)\n",
        "\n",
        "Técnica: Busqueda Aleatoria complejidad:"
      ]
    },
    {
      "cell_type": "code",
      "metadata": {
        "id": "7AlL6gkIMeKN",
        "colab_type": "code",
        "outputId": "e8b258b7-0c72-4c27-c404-b7f25ddca7b2",
        "colab": {
          "base_uri": "https://localhost:8080/",
          "height": 34
        }
      },
      "source": [
        "#Funciones Generales\n",
        "#Se genera una solucion aleatoria con comienzo en en el nodo 0\n",
        "def crear_solucion(Nodos):\n",
        "    solucion = [0]\n",
        "    for i in range(len(Nodos)-1):\n",
        "        solucion = solucion + [random.choice(list(set(Nodos)  - set(solucion)))]\n",
        "    return solucion \n",
        "\n",
        "# crear_solucion(Nodos)\n",
        "\n",
        "#Devuelve la distancia entre dos nodos\n",
        "def distancia(a,b, problem):\n",
        "    return problem.wfunc(a,b)\n",
        "\n",
        "# distancia(0,2,problem)\n",
        "\n",
        "#Devuelve la distancia total de una trayectoria\n",
        "def distancia_total(solucion, problem):\n",
        "    distancia_total = 0\n",
        "    for i in range(len(solucion)-1):\n",
        "        distancia_total += distancia(solucion[i] ,solucion[i+1] ,  problem)\n",
        "    return distancia_total + distancia(solucion[len(solucion)-1] ,solucion[0], problem)\n",
        "\n",
        "solucion = crear_solucion(Nodos)  # 0 al 41\n",
        "distancia_total(solucion, problem)"
      ],
      "execution_count": 7,
      "outputs": [
        {
          "output_type": "execute_result",
          "data": {
            "text/plain": [
              "4771"
            ]
          },
          "metadata": {
            "tags": []
          },
          "execution_count": 7
        }
      ]
    },
    {
      "cell_type": "code",
      "metadata": {
        "id": "vfwA3UoVcbqD",
        "colab_type": "code",
        "outputId": "2a161328-7ee4-43d3-eeff-047bf69f7582",
        "colab": {
          "base_uri": "https://localhost:8080/",
          "height": 292
        }
      },
      "source": [
        "#Busqueda Aleatoria\n",
        "def busqueda_aleatoria(problem,N):\n",
        "  mejor_solucion  = crear_solucion(Nodos) #solucion aleatoria\n",
        "  mejor_valor     = distancia_total(mejor_solucion, problem)\n",
        "\n",
        "  for i in range(N):\n",
        "    solucion  = crear_solucion(Nodos)\n",
        "    valor     = distancia_total(solucion, problem)\n",
        "#     print(valor,'^', mejor_valor, '*',i)\n",
        "    if valor < mejor_valor:\n",
        "      mejor_solucion = solucion\n",
        "      mejor_valor = valor\n",
        "\n",
        "  print(\"La Mejor Solucion es: \", mejor_valor,'\\nRecorrido:',mejor_solucion)\n",
        "\n",
        "print('Con 100 iteraciones')\n",
        "busqueda_aleatoria(problem,100)\n",
        "print('\\nCon 1000 iteraciones:')\n",
        "busqueda_aleatoria(problem,1000)\n",
        "print('\\nCon 10000 iteraciones:')\n",
        "busqueda_aleatoria(problem,10000)\n",
        "print('\\nCon 100000 iteraciones:')\n",
        "busqueda_aleatoria(problem,100000)"
      ],
      "execution_count": 8,
      "outputs": [
        {
          "output_type": "stream",
          "text": [
            "Con 100 iteraciones\n",
            "La Mejor Solucion es:  4145 \n",
            "Recorrido: [0, 3, 20, 4, 30, 33, 26, 41, 22, 14, 28, 40, 6, 17, 15, 32, 36, 37, 1, 8, 24, 29, 18, 16, 13, 7, 21, 38, 2, 10, 39, 23, 5, 11, 25, 12, 9, 27, 19, 35, 31, 34]\n",
            "\n",
            "Con 1000 iteraciones:\n",
            "La Mejor Solucion es:  3946 \n",
            "Recorrido: [0, 13, 19, 11, 37, 35, 36, 17, 22, 18, 7, 15, 5, 8, 32, 39, 41, 23, 25, 26, 6, 21, 10, 1, 2, 30, 12, 40, 9, 20, 31, 29, 33, 14, 24, 34, 38, 28, 16, 4, 3, 27]\n",
            "\n",
            "Con 10000 iteraciones:\n",
            "La Mejor Solucion es:  3464 \n",
            "Recorrido: [0, 7, 6, 1, 34, 21, 41, 24, 32, 39, 40, 13, 26, 16, 36, 3, 28, 22, 9, 12, 23, 25, 11, 10, 30, 18, 29, 31, 17, 35, 5, 14, 37, 19, 15, 2, 38, 20, 33, 8, 27, 4]\n",
            "\n",
            "Con 100000 iteraciones:\n",
            "La Mejor Solucion es:  3529 \n",
            "Recorrido: [0, 28, 21, 39, 9, 22, 38, 30, 5, 3, 20, 1, 23, 25, 41, 12, 11, 27, 36, 18, 19, 6, 32, 17, 35, 37, 15, 31, 33, 4, 34, 29, 8, 10, 16, 14, 7, 13, 26, 40, 2, 24]\n"
          ],
          "name": "stdout"
        }
      ]
    },
    {
      "cell_type": "markdown",
      "metadata": {
        "id": "fLWTSGv0HZEA",
        "colab_type": "text"
      },
      "source": [
        "Las soluciones se aproximan conforme aumenta el número de iteraciones, se realizo pruebas desde 100 hasta 10000, la mejor solución encontrada aun no es la optima ( 1273 )"
      ]
    },
    {
      "cell_type": "markdown",
      "metadata": {
        "id": "dnyc7vFRHdX0",
        "colab_type": "text"
      },
      "source": [
        "Busqueda Local: Generador de Vecindad    \n",
        "\n",
        "La idea es mejorar la solucion encontrada"
      ]
    },
    {
      "cell_type": "code",
      "metadata": {
        "id": "HX7vCqv_ejbV",
        "colab_type": "code",
        "colab": {
          "base_uri": "https://localhost:8080/",
          "height": 71
        },
        "outputId": "12b3f717-e34e-494a-a871-11d8e722dacb"
      },
      "source": [
        "#Generador de Vencidad\n",
        "\n",
        "def genera_vecina(solucion):\n",
        "  #Generador de soluciones vecinas: 2-opt (intercambiar 2 nodos) \n",
        "  #Si hay N nodos se generan (N-1)x(N-2)/2 soluciones\n",
        " \n",
        "  mejor_solucion = []\n",
        "  mejor_distancia = 10e100\n",
        "  for i in range(1,len(solucion)-1):\n",
        "    for j in range(i+1, len(solucion)):\n",
        "      vecina = solucion[:i] + [solucion[j]] + solucion[i+1:j] + [solucion[i]] + solucion[j+1:] \n",
        "      distancia_vecina = distancia_total(vecina, problem)\n",
        "      if distancia_vecina <= mejor_distancia:\n",
        "        mejor_distancia = distancia_vecina\n",
        "        mejor_solucion = vecina\n",
        "  print('Mejor Distancia:', mejor_distancia,'\\nRecorrido:', mejor_solucion)\n",
        "  return mejor_solucion\n",
        "      \n",
        "solucion = crear_solucion(Nodos)\n",
        "mejor_solucion = genera_vecina(solucion)\n"
      ],
      "execution_count": 9,
      "outputs": [
        {
          "output_type": "stream",
          "text": [
            "Mejor Distancia: 4527 \n",
            "Recorrido: [0, 32, 27, 36, 5, 23, 30, 11, 9, 26, 29, 37, 1, 7, 6, 19, 15, 33, 34, 39, 20, 18, 21, 10, 28, 2, 24, 8, 16, 35, 31, 38, 4, 13, 25, 41, 12, 3, 22, 17, 40, 14]\n"
          ],
          "name": "stdout"
        }
      ]
    },
    {
      "cell_type": "code",
      "metadata": {
        "id": "cT1-oC2Yhic8",
        "colab_type": "code",
        "outputId": "f80974a6-55eb-42a2-e96e-d2ffd3c6f42b",
        "colab": {
          "base_uri": "https://localhost:8080/",
          "height": 1771
        }
      },
      "source": [
        "# Busqueda Local\n",
        "def busqueda_local(problem, N):\n",
        "  #problem = datos del problema\n",
        "  #N = numero de iteraciones\n",
        "  \n",
        "  mejor_solucion = []\n",
        "  mejor_distancia = 10e100\n",
        "  \n",
        "  solucion_referencia = crear_solucion(Nodos)\n",
        "  \n",
        "  for i in range(N):\n",
        "    vecina = genera_vecina(solucion_referencia)\n",
        "    distancia_vecina = distancia_total(vecina, problem)\n",
        "    if distancia_vecina <= mejor_distancia:\n",
        "      mejor_solucion = vecina\n",
        "      mejor_distancia = distancia_vecina\n",
        "        \n",
        "    solucion_referencia = vecina\n",
        "\n",
        "  print(\"La mejor solución encontrada es: \" , mejor_distancia ,'\\nRecorrido:', mejor_solucion)\n",
        "\n",
        "busqueda_local(problem, 50)"
      ],
      "execution_count": 22,
      "outputs": [
        {
          "output_type": "stream",
          "text": [
            "Mejor Distancia: 4048 \n",
            "Recorrido: [0, 19, 20, 3, 10, 11, 1, 14, 15, 6, 30, 39, 25, 2, 31, 7, 40, 23, 22, 26, 28, 27, 34, 24, 38, 29, 21, 41, 18, 32, 12, 8, 36, 16, 5, 9, 33, 35, 13, 4, 17, 37]\n",
            "Mejor Distancia: 3822 \n",
            "Recorrido: [0, 19, 20, 3, 10, 11, 1, 14, 15, 6, 30, 39, 25, 2, 31, 7, 40, 23, 22, 26, 28, 27, 9, 24, 38, 29, 21, 41, 18, 32, 12, 8, 36, 16, 5, 34, 33, 35, 13, 4, 17, 37]\n",
            "Mejor Distancia: 3599 \n",
            "Recorrido: [0, 19, 20, 3, 10, 11, 1, 14, 15, 6, 30, 39, 25, 2, 31, 7, 40, 23, 22, 32, 28, 27, 9, 24, 38, 29, 21, 41, 18, 26, 12, 8, 36, 16, 5, 34, 33, 35, 13, 4, 17, 37]\n",
            "Mejor Distancia: 3386 \n",
            "Recorrido: [0, 19, 20, 3, 10, 11, 1, 14, 15, 6, 30, 39, 25, 2, 31, 7, 40, 23, 22, 32, 28, 27, 9, 24, 38, 29, 21, 41, 18, 26, 12, 8, 13, 16, 5, 34, 33, 35, 36, 4, 17, 37]\n",
            "Mejor Distancia: 3150 \n",
            "Recorrido: [0, 19, 20, 3, 10, 11, 1, 14, 15, 6, 30, 39, 25, 2, 4, 7, 40, 23, 22, 32, 28, 27, 9, 24, 38, 29, 21, 41, 18, 26, 12, 8, 13, 16, 5, 34, 33, 35, 36, 31, 17, 37]\n",
            "Mejor Distancia: 2942 \n",
            "Recorrido: [0, 19, 5, 3, 10, 11, 1, 14, 15, 6, 30, 39, 25, 2, 4, 7, 40, 23, 22, 32, 28, 27, 9, 24, 38, 29, 21, 41, 18, 26, 12, 8, 13, 16, 20, 34, 33, 35, 36, 31, 17, 37]\n",
            "Mejor Distancia: 2785 \n",
            "Recorrido: [0, 19, 5, 3, 10, 11, 1, 14, 15, 6, 30, 29, 25, 2, 4, 7, 40, 23, 22, 32, 28, 27, 9, 24, 38, 39, 21, 41, 18, 26, 12, 8, 13, 16, 20, 34, 33, 35, 36, 31, 17, 37]\n",
            "Mejor Distancia: 2669 \n",
            "Recorrido: [0, 19, 5, 3, 10, 11, 1, 14, 15, 6, 30, 29, 8, 2, 4, 7, 40, 23, 22, 32, 28, 27, 9, 24, 38, 39, 21, 41, 18, 26, 12, 25, 13, 16, 20, 34, 33, 35, 36, 31, 17, 37]\n",
            "Mejor Distancia: 2578 \n",
            "Recorrido: [0, 19, 5, 3, 10, 11, 1, 14, 15, 6, 30, 29, 8, 2, 4, 7, 9, 23, 22, 32, 28, 27, 40, 24, 38, 39, 21, 41, 18, 26, 12, 25, 13, 16, 20, 34, 33, 35, 36, 31, 17, 37]\n",
            "Mejor Distancia: 2491 \n",
            "Recorrido: [0, 1, 5, 3, 10, 11, 19, 14, 15, 6, 30, 29, 8, 2, 4, 7, 9, 23, 22, 32, 28, 27, 40, 24, 38, 39, 21, 41, 18, 26, 12, 25, 13, 16, 20, 34, 33, 35, 36, 31, 17, 37]\n",
            "Mejor Distancia: 2407 \n",
            "Recorrido: [0, 1, 5, 3, 10, 11, 19, 14, 15, 7, 30, 29, 8, 2, 4, 6, 9, 23, 22, 32, 28, 27, 40, 24, 38, 39, 21, 41, 18, 26, 12, 25, 13, 16, 20, 34, 33, 35, 36, 31, 17, 37]\n",
            "Mejor Distancia: 2330 \n",
            "Recorrido: [0, 1, 5, 3, 10, 11, 19, 14, 15, 7, 30, 29, 27, 2, 4, 6, 9, 23, 22, 32, 28, 8, 40, 24, 38, 39, 21, 41, 18, 26, 12, 25, 13, 16, 20, 34, 33, 35, 36, 31, 17, 37]\n",
            "Mejor Distancia: 2279 \n",
            "Recorrido: [0, 1, 5, 3, 10, 11, 19, 14, 15, 7, 32, 29, 27, 2, 4, 6, 9, 23, 22, 30, 28, 8, 40, 24, 38, 39, 21, 41, 18, 26, 12, 25, 13, 16, 20, 34, 33, 35, 36, 31, 17, 37]\n",
            "Mejor Distancia: 2212 \n",
            "Recorrido: [0, 1, 5, 3, 10, 11, 19, 14, 15, 7, 32, 28, 27, 2, 4, 6, 9, 23, 22, 30, 29, 8, 40, 24, 38, 39, 21, 41, 18, 26, 12, 25, 13, 16, 20, 34, 33, 35, 36, 31, 17, 37]\n",
            "Mejor Distancia: 2164 \n",
            "Recorrido: [0, 1, 5, 3, 10, 11, 19, 14, 15, 7, 32, 28, 27, 2, 4, 6, 9, 23, 22, 30, 29, 8, 40, 24, 38, 39, 21, 41, 25, 26, 12, 18, 13, 16, 20, 34, 33, 35, 36, 31, 17, 37]\n",
            "Mejor Distancia: 2057 \n",
            "Recorrido: [0, 1, 5, 3, 10, 26, 19, 14, 15, 7, 32, 28, 27, 2, 4, 6, 9, 23, 22, 30, 29, 8, 40, 24, 38, 39, 21, 41, 25, 11, 12, 18, 13, 16, 20, 34, 33, 35, 36, 31, 17, 37]\n",
            "Mejor Distancia: 1960 \n",
            "Recorrido: [0, 1, 5, 3, 6, 26, 19, 14, 15, 7, 32, 28, 27, 2, 4, 10, 9, 23, 22, 30, 29, 8, 40, 24, 38, 39, 21, 41, 25, 11, 12, 18, 13, 16, 20, 34, 33, 35, 36, 31, 17, 37]\n",
            "Mejor Distancia: 1929 \n",
            "Recorrido: [0, 1, 6, 3, 5, 26, 19, 14, 15, 7, 32, 28, 27, 2, 4, 10, 9, 23, 22, 30, 29, 8, 40, 24, 38, 39, 21, 41, 25, 11, 12, 18, 13, 16, 20, 34, 33, 35, 36, 31, 17, 37]\n",
            "Mejor Distancia: 1900 \n",
            "Recorrido: [0, 1, 6, 3, 5, 26, 19, 14, 15, 7, 32, 28, 27, 2, 4, 10, 9, 23, 8, 30, 29, 22, 40, 24, 38, 39, 21, 41, 25, 11, 12, 18, 13, 16, 20, 34, 33, 35, 36, 31, 17, 37]\n",
            "Mejor Distancia: 1823 \n",
            "Recorrido: [0, 1, 6, 3, 5, 26, 19, 14, 15, 7, 32, 28, 27, 2, 4, 10, 9, 23, 8, 30, 29, 22, 38, 24, 40, 39, 21, 41, 25, 11, 12, 18, 13, 16, 20, 34, 33, 35, 36, 31, 17, 37]\n",
            "Mejor Distancia: 1799 \n",
            "Recorrido: [0, 1, 6, 3, 5, 26, 19, 14, 15, 7, 32, 28, 27, 2, 4, 10, 9, 23, 8, 29, 30, 22, 38, 24, 40, 39, 21, 41, 25, 11, 12, 18, 13, 16, 20, 34, 33, 35, 36, 31, 17, 37]\n",
            "Mejor Distancia: 1776 \n",
            "Recorrido: [0, 1, 6, 3, 5, 26, 16, 14, 15, 7, 32, 28, 27, 2, 4, 10, 9, 23, 8, 29, 30, 22, 38, 24, 40, 39, 21, 41, 25, 11, 12, 18, 13, 19, 20, 34, 33, 35, 36, 31, 17, 37]\n",
            "Mejor Distancia: 1755 \n",
            "Recorrido: [0, 1, 6, 3, 5, 26, 16, 14, 15, 7, 32, 28, 27, 2, 4, 10, 9, 23, 8, 29, 30, 22, 38, 39, 40, 24, 21, 41, 25, 11, 12, 18, 13, 19, 20, 34, 33, 35, 36, 31, 17, 37]\n",
            "Mejor Distancia: 1730 \n",
            "Recorrido: [0, 1, 6, 3, 5, 26, 16, 14, 15, 7, 32, 28, 27, 2, 4, 10, 9, 23, 8, 29, 30, 38, 22, 39, 40, 24, 21, 41, 25, 11, 12, 18, 13, 19, 20, 34, 33, 35, 36, 31, 17, 37]\n",
            "Mejor Distancia: 1707 \n",
            "Recorrido: [0, 1, 6, 3, 5, 26, 16, 14, 15, 7, 32, 28, 27, 2, 4, 10, 9, 23, 8, 29, 30, 38, 22, 39, 21, 24, 40, 41, 25, 11, 12, 18, 13, 19, 20, 34, 33, 35, 36, 31, 17, 37]\n",
            "Mejor Distancia: 1686 \n",
            "Recorrido: [0, 1, 3, 6, 5, 26, 16, 14, 15, 7, 32, 28, 27, 2, 4, 10, 9, 23, 8, 29, 30, 38, 22, 39, 21, 24, 40, 41, 25, 11, 12, 18, 13, 19, 20, 34, 33, 35, 36, 31, 17, 37]\n",
            "Mejor Distancia: 1670 \n",
            "Recorrido: [0, 1, 3, 6, 5, 26, 16, 14, 15, 37, 32, 28, 27, 2, 4, 10, 9, 23, 8, 29, 30, 38, 22, 39, 21, 24, 40, 41, 25, 11, 12, 18, 13, 19, 20, 34, 33, 35, 36, 31, 17, 7]\n",
            "Mejor Distancia: 1655 \n",
            "Recorrido: [0, 1, 3, 6, 5, 26, 16, 14, 15, 37, 32, 28, 27, 2, 4, 10, 8, 23, 9, 29, 30, 38, 22, 39, 21, 24, 40, 41, 25, 11, 12, 18, 13, 19, 20, 34, 33, 35, 36, 31, 17, 7]\n",
            "Mejor Distancia: 1641 \n",
            "Recorrido: [0, 1, 3, 6, 5, 19, 16, 14, 15, 37, 32, 28, 27, 2, 4, 10, 8, 23, 9, 29, 30, 38, 22, 39, 21, 24, 40, 41, 25, 11, 12, 18, 13, 26, 20, 34, 33, 35, 36, 31, 17, 7]\n",
            "Mejor Distancia: 1621 \n",
            "Recorrido: [0, 1, 3, 6, 13, 19, 16, 14, 15, 37, 32, 28, 27, 2, 4, 10, 8, 23, 9, 29, 30, 38, 22, 39, 21, 24, 40, 41, 25, 11, 12, 18, 5, 26, 20, 34, 33, 35, 36, 31, 17, 7]\n",
            "Mejor Distancia: 1605 \n",
            "Recorrido: [0, 1, 3, 6, 13, 19, 16, 14, 15, 37, 32, 28, 27, 2, 4, 10, 8, 23, 9, 29, 30, 38, 22, 39, 21, 24, 40, 41, 25, 11, 12, 18, 26, 5, 20, 34, 33, 35, 36, 31, 17, 7]\n",
            "Mejor Distancia: 1591 \n",
            "Recorrido: [0, 1, 3, 5, 13, 19, 16, 14, 15, 37, 32, 28, 27, 2, 4, 10, 8, 23, 9, 29, 30, 38, 22, 39, 21, 24, 40, 41, 25, 11, 12, 18, 26, 6, 20, 34, 33, 35, 36, 31, 17, 7]\n",
            "Mejor Distancia: 1565 \n",
            "Recorrido: [0, 1, 6, 5, 13, 19, 16, 14, 15, 37, 32, 28, 27, 2, 4, 10, 8, 23, 9, 29, 30, 38, 22, 39, 21, 24, 40, 41, 25, 11, 12, 18, 26, 3, 20, 34, 33, 35, 36, 31, 17, 7]\n",
            "Mejor Distancia: 1545 \n",
            "Recorrido: [0, 1, 6, 5, 13, 19, 16, 14, 15, 37, 3, 28, 27, 2, 4, 10, 8, 23, 9, 29, 30, 38, 22, 39, 21, 24, 40, 41, 25, 11, 12, 18, 26, 32, 20, 34, 33, 35, 36, 31, 17, 7]\n",
            "Mejor Distancia: 1533 \n",
            "Recorrido: [0, 1, 6, 5, 13, 19, 16, 14, 15, 37, 3, 4, 27, 2, 28, 10, 8, 23, 9, 29, 30, 38, 22, 39, 21, 24, 40, 41, 25, 11, 12, 18, 26, 32, 20, 34, 33, 35, 36, 31, 17, 7]\n",
            "Mejor Distancia: 1527 \n",
            "Recorrido: [0, 1, 6, 5, 13, 19, 16, 14, 15, 37, 4, 3, 27, 2, 28, 10, 8, 23, 9, 29, 30, 38, 22, 39, 21, 24, 40, 41, 25, 11, 12, 18, 26, 32, 20, 34, 33, 35, 36, 31, 17, 7]\n",
            "Mejor Distancia: 1522 \n",
            "Recorrido: [0, 1, 6, 5, 13, 19, 16, 14, 15, 37, 4, 3, 27, 2, 28, 10, 8, 23, 9, 29, 30, 38, 22, 39, 21, 24, 40, 41, 25, 11, 12, 18, 26, 32, 34, 20, 33, 35, 36, 31, 17, 7]\n",
            "Mejor Distancia: 1510 \n",
            "Recorrido: [0, 1, 6, 5, 13, 19, 16, 14, 15, 37, 4, 3, 27, 2, 28, 10, 8, 23, 9, 29, 30, 38, 22, 39, 21, 24, 40, 41, 25, 11, 12, 18, 26, 32, 34, 33, 20, 35, 36, 31, 17, 7]\n",
            "Mejor Distancia: 1506 \n",
            "Recorrido: [0, 1, 6, 5, 13, 19, 14, 16, 15, 37, 4, 3, 27, 2, 28, 10, 8, 23, 9, 29, 30, 38, 22, 39, 21, 24, 40, 41, 25, 11, 12, 18, 26, 32, 34, 33, 20, 35, 36, 31, 17, 7]\n",
            "Mejor Distancia: 1506 \n",
            "Recorrido: [0, 1, 6, 5, 13, 19, 14, 16, 15, 37, 4, 3, 2, 27, 28, 10, 8, 23, 9, 29, 30, 38, 22, 39, 21, 24, 40, 41, 25, 11, 12, 18, 26, 32, 34, 33, 20, 35, 36, 31, 17, 7]\n",
            "Mejor Distancia: 1506 \n",
            "Recorrido: [0, 1, 6, 5, 13, 19, 14, 16, 15, 37, 4, 3, 27, 2, 28, 10, 8, 23, 9, 29, 30, 38, 22, 39, 21, 24, 40, 41, 25, 11, 12, 18, 26, 32, 34, 33, 20, 35, 36, 31, 17, 7]\n",
            "Mejor Distancia: 1506 \n",
            "Recorrido: [0, 1, 6, 5, 13, 19, 14, 16, 15, 37, 4, 3, 2, 27, 28, 10, 8, 23, 9, 29, 30, 38, 22, 39, 21, 24, 40, 41, 25, 11, 12, 18, 26, 32, 34, 33, 20, 35, 36, 31, 17, 7]\n",
            "Mejor Distancia: 1506 \n",
            "Recorrido: [0, 1, 6, 5, 13, 19, 14, 16, 15, 37, 4, 3, 27, 2, 28, 10, 8, 23, 9, 29, 30, 38, 22, 39, 21, 24, 40, 41, 25, 11, 12, 18, 26, 32, 34, 33, 20, 35, 36, 31, 17, 7]\n",
            "Mejor Distancia: 1506 \n",
            "Recorrido: [0, 1, 6, 5, 13, 19, 14, 16, 15, 37, 4, 3, 2, 27, 28, 10, 8, 23, 9, 29, 30, 38, 22, 39, 21, 24, 40, 41, 25, 11, 12, 18, 26, 32, 34, 33, 20, 35, 36, 31, 17, 7]\n",
            "Mejor Distancia: 1506 \n",
            "Recorrido: [0, 1, 6, 5, 13, 19, 14, 16, 15, 37, 4, 3, 27, 2, 28, 10, 8, 23, 9, 29, 30, 38, 22, 39, 21, 24, 40, 41, 25, 11, 12, 18, 26, 32, 34, 33, 20, 35, 36, 31, 17, 7]\n",
            "Mejor Distancia: 1506 \n",
            "Recorrido: [0, 1, 6, 5, 13, 19, 14, 16, 15, 37, 4, 3, 2, 27, 28, 10, 8, 23, 9, 29, 30, 38, 22, 39, 21, 24, 40, 41, 25, 11, 12, 18, 26, 32, 34, 33, 20, 35, 36, 31, 17, 7]\n",
            "Mejor Distancia: 1506 \n",
            "Recorrido: [0, 1, 6, 5, 13, 19, 14, 16, 15, 37, 4, 3, 27, 2, 28, 10, 8, 23, 9, 29, 30, 38, 22, 39, 21, 24, 40, 41, 25, 11, 12, 18, 26, 32, 34, 33, 20, 35, 36, 31, 17, 7]\n",
            "Mejor Distancia: 1506 \n",
            "Recorrido: [0, 1, 6, 5, 13, 19, 14, 16, 15, 37, 4, 3, 2, 27, 28, 10, 8, 23, 9, 29, 30, 38, 22, 39, 21, 24, 40, 41, 25, 11, 12, 18, 26, 32, 34, 33, 20, 35, 36, 31, 17, 7]\n",
            "Mejor Distancia: 1506 \n",
            "Recorrido: [0, 1, 6, 5, 13, 19, 14, 16, 15, 37, 4, 3, 27, 2, 28, 10, 8, 23, 9, 29, 30, 38, 22, 39, 21, 24, 40, 41, 25, 11, 12, 18, 26, 32, 34, 33, 20, 35, 36, 31, 17, 7]\n",
            "Mejor Distancia: 1506 \n",
            "Recorrido: [0, 1, 6, 5, 13, 19, 14, 16, 15, 37, 4, 3, 2, 27, 28, 10, 8, 23, 9, 29, 30, 38, 22, 39, 21, 24, 40, 41, 25, 11, 12, 18, 26, 32, 34, 33, 20, 35, 36, 31, 17, 7]\n",
            "La mejor solución encontrada es:  1506 \n",
            "Recorrido: [0, 1, 6, 5, 13, 19, 14, 16, 15, 37, 4, 3, 2, 27, 28, 10, 8, 23, 9, 29, 30, 38, 22, 39, 21, 24, 40, 41, 25, 11, 12, 18, 26, 32, 34, 33, 20, 35, 36, 31, 17, 7]\n"
          ],
          "name": "stdout"
        }
      ]
    },
    {
      "cell_type": "markdown",
      "metadata": {
        "id": "R373S50KH11a",
        "colab_type": "text"
      },
      "source": [
        "mediante Generador de vecindad y busqueda locar mejoramos el resultado anterior.   \n",
        "\n",
        "\n",
        "RECOCIDO SIMULADO"
      ]
    },
    {
      "cell_type": "code",
      "metadata": {
        "id": "r9g3exOVpWSm",
        "colab_type": "code",
        "outputId": "77dc3709-64b8-432c-878f-90c3c0718619",
        "colab": {
          "base_uri": "https://localhost:8080/",
          "height": 88
        }
      },
      "source": [
        "#Generador de 1 solucion vecina 2-opt (intercambiar 2 nodos)\n",
        "def genera_vecina_aleatorio(solucion):\n",
        "   #Se puede mejorar haciendo que la elección no se uniforme sino entre las que estén más proximas\n",
        "  i = random.choice(range(1, len(solucion)) )\n",
        "  j = random.choice(list(set(range(1, len(solucion))) - {i}))\n",
        "  if j<i:\n",
        "    i,j=j,i\n",
        "  vecina = list(solucion[:i] + [solucion[j]] + solucion[i+1:j] + [solucion[i]] + solucion[j+1:])\n",
        "  return vecina\n",
        "\n",
        "solucion = crear_solucion(Nodos)\n",
        "print('Recorrido 1:',solucion,'\\n\\nRecorrido generado:', genera_vecina_aleatorio(solucion))"
      ],
      "execution_count": 11,
      "outputs": [
        {
          "output_type": "stream",
          "text": [
            "Recorrido 1: [0, 14, 21, 3, 2, 23, 20, 41, 6, 9, 37, 29, 36, 10, 1, 19, 11, 7, 15, 24, 22, 31, 33, 27, 25, 39, 8, 30, 34, 5, 4, 40, 18, 16, 32, 13, 26, 17, 38, 35, 28, 12] \n",
            "\n",
            "Recorrido generado: [0, 14, 21, 3, 2, 23, 20, 41, 6, 9, 37, 29, 36, 10, 1, 34, 11, 7, 15, 24, 22, 31, 33, 27, 25, 39, 8, 30, 19, 5, 4, 40, 18, 16, 32, 13, 26, 17, 38, 35, 28, 12]\n"
          ],
          "name": "stdout"
        }
      ]
    },
    {
      "cell_type": "code",
      "metadata": {
        "id": "gUDjiAb1wQ-F",
        "colab_type": "code",
        "colab": {}
      },
      "source": [
        "#Funcion de probabilidad para determinar si se cambia \n",
        "#    a una solución peor respecto a la de referencia(exponencial)\n",
        "def probabilidad(T,d):\n",
        "  if random.random() <= math.exp(-1*d / T)   :\n",
        "    return True\n",
        "  else:\n",
        "    return False\n",
        "\n",
        "def bajar_temperatura(T):\n",
        "  return T*.9999"
      ],
      "execution_count": 0,
      "outputs": []
    },
    {
      "cell_type": "code",
      "metadata": {
        "id": "iKwnMWJAlY9s",
        "colab_type": "code",
        "colab": {
          "base_uri": "https://localhost:8080/",
          "height": 3777
        },
        "outputId": "54f000e3-3313-4b60-87a2-f470bd97c0db"
      },
      "source": [
        "#Recocido Simulado\n",
        "#####################################################################\n",
        "def recocido_simulado(problem, TEMPERATURA=1000):\n",
        "  #problem = datos del problema\n",
        "\n",
        "  solucion_referencia = crear_solucion(Nodos)\n",
        "  distancia_referencia = distancia_total(solucion_referencia, problem)\n",
        "  \n",
        "  mejor_solucion = []\n",
        "  mejor_distancia = 10e100\n",
        "\n",
        "  while TEMPERATURA > 1: #criterio de parada\n",
        "    #Genera una solución vecina(aleatoria)\n",
        "    vecina = genera_vecina_aleatorio(solucion_referencia) \n",
        "    \n",
        "    #Calcula su valor(distancia)\n",
        "    distancia_vecina = distancia_total(vecina, problem)\n",
        "    \n",
        "    #Si es la mejor solución de todas se guarda\n",
        "    if distancia_vecina < mejor_distancia:\n",
        "      mejor_solucion = vecina\n",
        "      mejor_distancia = distancia_vecina\n",
        "      print('\\t**Encontrada mejor solucion:', mejor_distancia , mejor_solucion, '\\n')\n",
        "    \n",
        "    #Si la nueva vecina es mejor se cambia y si es peor se cambia según \n",
        "    # una probabilidad dependiente de T y de |distancia_referencia - distancia_vecina|\n",
        "    p = probabilidad(TEMPERATURA, abs(distancia_referencia - distancia_vecina) )\n",
        "    if distancia_vecina < distancia_referencia or p :\n",
        "      solucion_referencia = vecina\n",
        "      distancia_referencia = distancia_vecina\n",
        "    #bajo la temperatura\n",
        "    TEMPERATURA = bajar_temperatura(TEMPERATURA)\n",
        "\n",
        "  print(\"La mejor solución encontrada es :\" , mejor_distancia,'\\nRecorrido:', mejor_solucion  )\n",
        "  return mejor_solucion\n",
        "\n",
        "sol = recocido_simulado(problem, TEMPERATURA=1000)"
      ],
      "execution_count": 14,
      "outputs": [
        {
          "output_type": "stream",
          "text": [
            "\t**Encontrada mejor solucion: 4857 [0, 19, 24, 34, 38, 2, 3, 40, 27, 4, 18, 20, 31, 15, 6, 11, 41, 5, 7, 32, 39, 30, 8, 17, 25, 37, 12, 14, 33, 22, 26, 29, 23, 13, 36, 28, 9, 10, 35, 16, 21, 1] \n",
            "\n",
            "\t**Encontrada mejor solucion: 4831 [0, 19, 24, 34, 38, 2, 3, 40, 27, 4, 18, 20, 31, 15, 6, 11, 41, 5, 7, 16, 39, 30, 8, 17, 25, 37, 12, 14, 33, 22, 26, 29, 23, 13, 36, 28, 9, 10, 35, 32, 21, 1] \n",
            "\n",
            "\t**Encontrada mejor solucion: 4799 [0, 19, 24, 34, 38, 2, 3, 40, 13, 4, 18, 20, 31, 15, 6, 11, 41, 5, 14, 16, 39, 30, 8, 17, 25, 37, 12, 7, 33, 22, 26, 29, 23, 27, 36, 28, 9, 10, 35, 32, 21, 1] \n",
            "\n",
            "\t**Encontrada mejor solucion: 4570 [0, 19, 24, 34, 38, 2, 3, 40, 13, 4, 18, 20, 31, 15, 6, 11, 41, 1, 14, 16, 39, 30, 8, 17, 25, 37, 12, 7, 33, 22, 21, 29, 23, 27, 36, 28, 9, 10, 35, 32, 26, 5] \n",
            "\n",
            "\t**Encontrada mejor solucion: 4564 [0, 19, 6, 30, 29, 40, 12, 2, 17, 7, 20, 18, 14, 15, 24, 11, 41, 1, 22, 16, 39, 34, 35, 13, 37, 25, 3, 4, 31, 33, 23, 38, 9, 27, 36, 28, 21, 10, 8, 32, 26, 5] \n",
            "\n",
            "\t**Encontrada mejor solucion: 4336 [0, 19, 13, 16, 29, 40, 12, 2, 17, 7, 20, 18, 14, 15, 24, 11, 41, 1, 22, 30, 39, 34, 35, 6, 37, 25, 10, 4, 31, 33, 23, 38, 9, 27, 32, 28, 21, 3, 8, 36, 26, 5] \n",
            "\n",
            "\t**Encontrada mejor solucion: 4225 [0, 19, 13, 16, 29, 40, 12, 2, 17, 7, 20, 18, 14, 15, 27, 11, 41, 1, 22, 30, 39, 34, 35, 6, 37, 25, 10, 4, 31, 33, 23, 38, 9, 24, 32, 28, 21, 3, 8, 36, 26, 5] \n",
            "\n",
            "\t**Encontrada mejor solucion: 4108 [0, 37, 8, 16, 6, 26, 31, 36, 17, 33, 25, 18, 3, 20, 27, 11, 12, 21, 40, 30, 4, 23, 34, 29, 19, 15, 10, 2, 41, 22, 24, 38, 9, 14, 32, 39, 1, 28, 35, 7, 5, 13] \n",
            "\n",
            "\t**Encontrada mejor solucion: 4069 [0, 37, 8, 16, 6, 26, 31, 36, 17, 33, 15, 18, 3, 20, 27, 11, 12, 21, 40, 30, 4, 23, 34, 29, 19, 25, 10, 2, 41, 22, 24, 38, 9, 14, 32, 39, 1, 28, 35, 7, 5, 13] \n",
            "\n",
            "\t**Encontrada mejor solucion: 3982 [0, 37, 8, 16, 6, 26, 31, 36, 17, 33, 15, 18, 3, 20, 23, 11, 12, 21, 40, 30, 4, 27, 34, 29, 19, 25, 10, 2, 41, 22, 24, 38, 9, 14, 32, 39, 1, 28, 35, 7, 5, 13] \n",
            "\n",
            "\t**Encontrada mejor solucion: 3966 [0, 37, 8, 16, 6, 26, 31, 36, 17, 33, 15, 18, 3, 20, 23, 11, 12, 21, 40, 30, 4, 27, 34, 29, 19, 25, 10, 2, 41, 22, 24, 38, 9, 14, 32, 35, 1, 28, 39, 7, 5, 13] \n",
            "\n",
            "\t**Encontrada mejor solucion: 3878 [0, 28, 18, 39, 21, 9, 12, 41, 1, 23, 6, 17, 32, 19, 8, 10, 40, 24, 14, 16, 2, 3, 7, 25, 30, 31, 22, 38, 11, 34, 29, 35, 36, 33, 20, 27, 37, 13, 4, 26, 15, 5] \n",
            "\n",
            "\t**Encontrada mejor solucion: 3835 [0, 16, 2, 18, 26, 15, 14, 35, 19, 3, 6, 4, 28, 40, 21, 1, 23, 29, 38, 32, 41, 5, 11, 27, 33, 9, 10, 12, 31, 17, 37, 36, 7, 34, 22, 20, 13, 25, 39, 8, 24, 30] \n",
            "\n",
            "\t**Encontrada mejor solucion: 3828 [0, 16, 2, 18, 26, 11, 14, 35, 20, 3, 6, 4, 19, 9, 33, 1, 23, 29, 38, 32, 41, 5, 15, 27, 24, 40, 10, 12, 31, 17, 37, 36, 7, 34, 22, 28, 13, 25, 39, 8, 21, 30] \n",
            "\n",
            "\t**Encontrada mejor solucion: 3725 [0, 16, 2, 18, 26, 11, 36, 35, 20, 3, 6, 4, 19, 9, 33, 1, 23, 29, 38, 32, 41, 5, 15, 27, 24, 40, 10, 12, 31, 17, 37, 14, 7, 34, 22, 28, 13, 25, 39, 8, 21, 30] \n",
            "\n",
            "\t**Encontrada mejor solucion: 3700 [0, 16, 2, 18, 26, 11, 36, 35, 20, 3, 6, 4, 19, 9, 33, 1, 23, 29, 38, 32, 41, 5, 15, 27, 24, 40, 10, 12, 31, 17, 37, 14, 7, 34, 22, 21, 13, 25, 39, 8, 28, 30] \n",
            "\n",
            "\t**Encontrada mejor solucion: 3549 [0, 18, 14, 19, 15, 16, 36, 31, 26, 27, 13, 9, 20, 5, 25, 37, 29, 28, 2, 23, 10, 12, 30, 38, 8, 41, 34, 33, 6, 22, 4, 3, 11, 21, 39, 24, 40, 32, 35, 17, 1, 7] \n",
            "\n",
            "\t**Encontrada mejor solucion: 3519 [0, 31, 16, 37, 4, 27, 32, 35, 3, 20, 34, 11, 26, 8, 40, 29, 25, 9, 2, 13, 18, 5, 19, 1, 17, 36, 15, 14, 30, 33, 22, 28, 7, 24, 41, 23, 39, 38, 21, 6, 12, 10] \n",
            "\n",
            "\t**Encontrada mejor solucion: 3484 [0, 41, 25, 30, 38, 32, 6, 35, 19, 14, 36, 23, 9, 13, 12, 10, 8, 20, 31, 27, 2, 4, 33, 3, 28, 22, 21, 40, 24, 39, 29, 5, 17, 34, 15, 18, 37, 16, 26, 11, 7, 1] \n",
            "\n",
            "\t**Encontrada mejor solucion: 3392 [0, 41, 25, 30, 38, 32, 6, 2, 19, 14, 36, 23, 9, 13, 12, 18, 8, 5, 31, 27, 35, 4, 33, 3, 28, 22, 21, 40, 24, 39, 29, 20, 17, 34, 37, 7, 15, 16, 26, 11, 10, 1] \n",
            "\n",
            "\t**Encontrada mejor solucion: 3327 [0, 38, 31, 5, 4, 12, 41, 39, 21, 40, 6, 8, 24, 9, 25, 22, 29, 23, 11, 26, 30, 35, 36, 20, 33, 3, 1, 14, 32, 34, 10, 7, 17, 16, 37, 18, 27, 28, 2, 15, 19, 13] \n",
            "\n",
            "\t**Encontrada mejor solucion: 3281 [0, 4, 7, 15, 37, 14, 34, 38, 17, 35, 36, 20, 2, 27, 39, 8, 12, 11, 40, 26, 1, 16, 6, 10, 21, 23, 41, 22, 24, 25, 30, 32, 29, 9, 3, 33, 28, 13, 19, 5, 18, 31] \n",
            "\n",
            "\t**Encontrada mejor solucion: 3228 [0, 4, 7, 15, 37, 14, 34, 38, 17, 35, 36, 20, 2, 27, 39, 26, 12, 11, 40, 10, 1, 16, 6, 24, 21, 23, 41, 8, 3, 25, 30, 32, 29, 9, 22, 33, 28, 13, 19, 5, 18, 31] \n",
            "\n",
            "\t**Encontrada mejor solucion: 3155 [0, 4, 7, 15, 37, 14, 34, 38, 17, 35, 36, 20, 2, 27, 9, 26, 12, 11, 40, 10, 1, 16, 6, 24, 21, 23, 41, 8, 3, 25, 30, 32, 29, 39, 22, 33, 28, 13, 19, 5, 18, 31] \n",
            "\n",
            "\t**Encontrada mejor solucion: 3053 [0, 20, 7, 15, 37, 4, 29, 33, 17, 35, 36, 14, 2, 27, 12, 26, 11, 10, 40, 9, 1, 6, 31, 24, 21, 23, 41, 8, 3, 25, 30, 32, 34, 39, 22, 38, 28, 13, 19, 5, 18, 16] \n",
            "\n",
            "\t**Encontrada mejor solucion: 3004 [0, 2, 15, 7, 18, 4, 38, 9, 29, 28, 14, 16, 35, 31, 36, 37, 17, 12, 11, 25, 39, 30, 13, 19, 10, 3, 26, 32, 34, 33, 20, 5, 6, 40, 21, 24, 22, 23, 8, 27, 41, 1] \n",
            "\n",
            "\t**Encontrada mejor solucion: 2985 [0, 14, 15, 7, 18, 4, 38, 9, 29, 28, 2, 16, 35, 31, 36, 37, 17, 12, 26, 25, 39, 30, 41, 10, 19, 13, 11, 32, 34, 33, 20, 5, 6, 40, 21, 24, 22, 23, 27, 8, 3, 1] \n",
            "\n",
            "\t**Encontrada mejor solucion: 2913 [0, 13, 26, 5, 18, 17, 37, 3, 2, 10, 6, 15, 7, 31, 36, 9, 11, 41, 25, 23, 20, 35, 14, 16, 19, 12, 30, 33, 34, 1, 4, 28, 39, 40, 21, 24, 38, 22, 32, 8, 29, 27] \n",
            "\n",
            "\t**Encontrada mejor solucion: 2905 [0, 13, 1, 5, 6, 17, 37, 3, 2, 10, 12, 15, 7, 31, 36, 23, 11, 41, 25, 9, 20, 35, 14, 16, 19, 26, 28, 33, 34, 18, 4, 30, 39, 21, 40, 24, 38, 22, 32, 8, 29, 27] \n",
            "\n",
            "\t**Encontrada mejor solucion: 2900 [0, 13, 3, 5, 6, 17, 37, 1, 2, 10, 12, 15, 7, 31, 9, 23, 11, 41, 25, 20, 36, 35, 14, 16, 19, 26, 28, 33, 34, 18, 22, 38, 39, 21, 40, 24, 30, 4, 32, 8, 29, 27] \n",
            "\n",
            "\t**Encontrada mejor solucion: 2851 [0, 15, 13, 17, 14, 37, 19, 41, 10, 8, 30, 25, 18, 28, 3, 34, 4, 6, 26, 5, 16, 1, 2, 20, 33, 32, 11, 12, 9, 21, 24, 40, 23, 27, 31, 36, 35, 29, 39, 22, 38, 7] \n",
            "\n",
            "\t**Encontrada mejor solucion: 2795 [0, 15, 13, 17, 14, 37, 19, 23, 8, 3, 10, 25, 18, 28, 30, 38, 4, 6, 26, 5, 16, 1, 34, 20, 33, 32, 11, 12, 9, 21, 24, 40, 41, 27, 31, 36, 35, 29, 39, 22, 2, 7] \n",
            "\n",
            "\t**Encontrada mejor solucion: 2746 [0, 4, 35, 36, 17, 15, 37, 28, 38, 9, 23, 11, 14, 13, 18, 10, 8, 22, 2, 27, 31, 20, 33, 34, 32, 29, 7, 26, 1, 3, 30, 16, 19, 6, 5, 12, 21, 24, 39, 40, 41, 25] \n",
            "\n",
            "\t**Encontrada mejor solucion: 2722 [0, 4, 35, 36, 17, 15, 37, 28, 38, 9, 23, 11, 14, 13, 18, 10, 8, 22, 2, 27, 31, 20, 33, 34, 32, 29, 7, 26, 30, 3, 1, 16, 19, 6, 5, 12, 21, 24, 39, 40, 41, 25] \n",
            "\n",
            "\t**Encontrada mejor solucion: 2704 [0, 4, 35, 36, 17, 15, 37, 28, 38, 9, 23, 11, 14, 13, 18, 10, 8, 12, 2, 27, 31, 20, 33, 34, 32, 29, 7, 26, 30, 3, 1, 16, 19, 6, 5, 22, 21, 24, 39, 40, 41, 25] \n",
            "\n",
            "\t**Encontrada mejor solucion: 2699 [0, 4, 35, 36, 17, 15, 37, 28, 38, 9, 23, 11, 14, 13, 18, 10, 8, 12, 29, 27, 31, 20, 33, 34, 32, 2, 7, 26, 30, 3, 1, 16, 19, 6, 5, 22, 21, 24, 39, 40, 41, 25] \n",
            "\n",
            "\t**Encontrada mejor solucion: 2674 [0, 37, 17, 35, 31, 38, 2, 22, 30, 41, 23, 21, 34, 33, 36, 20, 32, 26, 5, 6, 13, 18, 12, 8, 11, 25, 10, 1, 3, 27, 15, 19, 14, 16, 7, 4, 9, 39, 24, 40, 28, 29] \n",
            "\n",
            "\t**Encontrada mejor solucion: 2576 [0, 5, 3, 33, 34, 20, 35, 36, 17, 31, 38, 22, 40, 41, 25, 9, 8, 27, 12, 23, 18, 10, 19, 13, 15, 7, 1, 2, 28, 29, 30, 6, 14, 37, 16, 26, 39, 24, 21, 11, 4, 32] \n",
            "\n",
            "\t**Encontrada mejor solucion: 2545 [0, 15, 37, 16, 3, 2, 29, 1, 34, 17, 19, 14, 13, 26, 5, 27, 4, 7, 33, 20, 11, 25, 28, 30, 9, 21, 24, 40, 23, 10, 41, 12, 18, 8, 39, 22, 38, 35, 36, 31, 32, 6] \n",
            "\n",
            "\t**Encontrada mejor solucion: 2535 [0, 15, 37, 34, 32, 2, 29, 1, 16, 17, 19, 14, 13, 26, 5, 27, 3, 7, 33, 20, 11, 25, 28, 30, 9, 21, 24, 40, 23, 10, 41, 12, 18, 8, 39, 22, 38, 35, 36, 31, 4, 6] \n",
            "\n",
            "\t**Encontrada mejor solucion: 2533 [0, 15, 37, 34, 32, 2, 29, 1, 16, 17, 19, 14, 13, 26, 5, 27, 6, 7, 33, 20, 11, 25, 28, 30, 9, 21, 24, 40, 23, 10, 41, 12, 18, 8, 39, 22, 38, 35, 36, 31, 4, 3] \n",
            "\n",
            "\t**Encontrada mejor solucion: 2514 [0, 15, 37, 34, 32, 2, 29, 1, 16, 7, 19, 14, 13, 26, 5, 27, 6, 17, 33, 20, 11, 25, 28, 30, 9, 21, 24, 40, 23, 10, 41, 12, 18, 8, 39, 22, 38, 35, 36, 31, 4, 3] \n",
            "\n",
            "\t**Encontrada mejor solucion: 2512 [0, 15, 37, 34, 32, 2, 29, 1, 16, 7, 19, 14, 13, 26, 5, 27, 6, 17, 33, 20, 11, 25, 28, 30, 39, 21, 24, 40, 23, 10, 41, 12, 18, 8, 9, 22, 38, 31, 36, 35, 4, 3] \n",
            "\n",
            "\t**Encontrada mejor solucion: 2509 [0, 15, 37, 34, 32, 2, 29, 1, 16, 7, 19, 14, 13, 26, 5, 27, 6, 31, 33, 20, 11, 25, 28, 30, 39, 21, 24, 40, 23, 10, 41, 12, 18, 8, 9, 22, 38, 17, 36, 35, 4, 3] \n",
            "\n",
            "\t**Encontrada mejor solucion: 2471 [0, 15, 37, 34, 32, 2, 29, 27, 16, 7, 19, 14, 13, 26, 5, 1, 6, 31, 33, 20, 11, 25, 28, 30, 39, 21, 24, 40, 23, 10, 41, 12, 18, 8, 9, 22, 38, 17, 36, 35, 4, 3] \n",
            "\n",
            "\t**Encontrada mejor solucion: 2445 [0, 16, 7, 4, 2, 6, 29, 27, 19, 37, 15, 13, 14, 26, 5, 1, 20, 31, 33, 34, 18, 11, 28, 30, 39, 21, 24, 40, 23, 10, 25, 12, 41, 8, 9, 22, 38, 17, 36, 35, 32, 3] \n",
            "\n",
            "\t**Encontrada mejor solucion: 2368 [0, 16, 7, 2, 4, 6, 29, 27, 19, 37, 15, 13, 14, 26, 5, 1, 31, 20, 33, 34, 18, 11, 28, 30, 39, 21, 24, 40, 23, 10, 25, 12, 41, 9, 8, 22, 38, 17, 36, 35, 32, 3] \n",
            "\n",
            "\t**Encontrada mejor solucion: 2355 [0, 16, 19, 11, 4, 29, 6, 7, 14, 37, 15, 13, 27, 5, 26, 1, 31, 20, 33, 34, 18, 2, 28, 30, 39, 21, 24, 40, 23, 10, 25, 12, 41, 9, 8, 22, 38, 35, 36, 17, 32, 3] \n",
            "\n",
            "\t**Encontrada mejor solucion: 2284 [0, 16, 19, 11, 4, 26, 6, 5, 14, 37, 15, 13, 27, 29, 1, 7, 31, 20, 33, 34, 18, 2, 28, 30, 39, 21, 24, 40, 23, 10, 25, 12, 41, 9, 8, 22, 38, 35, 36, 17, 32, 3] \n",
            "\n",
            "\t**Encontrada mejor solucion: 2253 [0, 16, 14, 2, 4, 26, 1, 18, 15, 37, 13, 19, 5, 27, 6, 7, 31, 20, 33, 34, 28, 29, 22, 41, 21, 39, 24, 40, 23, 25, 11, 12, 10, 9, 8, 30, 38, 35, 36, 17, 32, 3] \n",
            "\n",
            "\t**Encontrada mejor solucion: 2231 [0, 2, 4, 18, 26, 16, 14, 27, 3, 37, 15, 7, 19, 13, 5, 6, 32, 20, 34, 38, 30, 25, 12, 11, 8, 39, 24, 40, 22, 28, 10, 41, 21, 9, 23, 29, 33, 35, 36, 31, 17, 1] \n",
            "\n",
            "\t**Encontrada mejor solucion: 2228 [0, 2, 4, 18, 26, 16, 14, 27, 3, 37, 15, 7, 19, 13, 5, 6, 32, 20, 34, 38, 23, 25, 12, 11, 8, 39, 24, 40, 22, 28, 10, 41, 21, 9, 30, 29, 33, 35, 36, 31, 17, 1] \n",
            "\n",
            "\t**Encontrada mejor solucion: 2188 [0, 2, 4, 18, 26, 16, 14, 27, 3, 37, 15, 7, 19, 13, 5, 6, 32, 20, 34, 38, 23, 25, 12, 11, 21, 39, 24, 40, 22, 28, 10, 41, 8, 9, 30, 29, 33, 35, 36, 31, 17, 1] \n",
            "\n",
            "\t**Encontrada mejor solucion: 2184 [0, 1, 32, 14, 15, 16, 19, 13, 26, 5, 7, 4, 6, 11, 18, 12, 10, 3, 34, 33, 29, 30, 38, 28, 2, 27, 8, 25, 41, 21, 40, 24, 23, 9, 22, 39, 20, 35, 36, 31, 37, 17] \n",
            "\n",
            "\t**Encontrada mejor solucion: 2183 [0, 1, 32, 14, 15, 16, 19, 13, 26, 5, 7, 4, 6, 11, 18, 12, 10, 3, 33, 34, 29, 30, 38, 28, 2, 27, 8, 25, 41, 21, 40, 24, 23, 9, 22, 39, 20, 35, 36, 31, 37, 17] \n",
            "\n",
            "\t**Encontrada mejor solucion: 2181 [0, 1, 32, 14, 15, 16, 19, 13, 26, 5, 7, 4, 6, 10, 18, 12, 11, 3, 33, 34, 29, 30, 38, 28, 2, 27, 8, 25, 41, 21, 40, 24, 23, 9, 22, 39, 20, 35, 36, 31, 37, 17] \n",
            "\n",
            "\t**Encontrada mejor solucion: 2149 [0, 36, 35, 15, 16, 13, 4, 2, 32, 1, 3, 6, 5, 26, 18, 11, 25, 27, 28, 34, 20, 33, 22, 38, 30, 12, 10, 8, 9, 24, 39, 21, 40, 41, 23, 29, 7, 31, 17, 37, 14, 19] \n",
            "\n",
            "\t**Encontrada mejor solucion: 2144 [0, 36, 35, 15, 16, 13, 4, 27, 32, 1, 3, 6, 5, 26, 18, 11, 25, 2, 28, 34, 20, 33, 22, 38, 30, 12, 10, 8, 9, 24, 39, 21, 40, 41, 23, 29, 7, 31, 17, 37, 14, 19] \n",
            "\n",
            "\t**Encontrada mejor solucion: 2125 [0, 37, 31, 17, 36, 35, 33, 20, 15, 14, 16, 1, 2, 3, 26, 12, 11, 34, 28, 4, 8, 22, 38, 30, 29, 32, 27, 39, 21, 24, 40, 9, 23, 41, 25, 10, 18, 5, 6, 19, 13, 7] \n",
            "\n",
            "\t**Encontrada mejor solucion: 2124 [0, 37, 31, 17, 36, 35, 20, 33, 15, 14, 16, 7, 3, 2, 6, 4, 1, 13, 19, 10, 8, 22, 39, 30, 32, 34, 29, 38, 21, 24, 40, 9, 23, 41, 25, 18, 5, 11, 12, 26, 28, 27] \n",
            "\n",
            "\t**Encontrada mejor solucion: 2079 [0, 1, 32, 20, 35, 36, 31, 7, 5, 15, 37, 14, 16, 19, 13, 11, 25, 30, 29, 26, 12, 41, 9, 8, 34, 33, 38, 22, 24, 40, 21, 39, 23, 10, 18, 4, 3, 6, 17, 28, 27, 2] \n",
            "\n",
            "\t**Encontrada mejor solucion: 2050 [0, 28, 32, 20, 35, 36, 31, 7, 5, 16, 37, 15, 14, 19, 13, 26, 25, 41, 29, 11, 12, 23, 9, 30, 34, 33, 38, 22, 24, 40, 39, 21, 8, 10, 18, 6, 3, 4, 1, 17, 27, 2] \n",
            "\n",
            "\t**Encontrada mejor solucion: 2015 [0, 28, 32, 20, 35, 36, 31, 17, 37, 13, 5, 15, 14, 16, 19, 26, 12, 29, 41, 11, 10, 25, 23, 30, 34, 33, 38, 22, 24, 40, 39, 21, 9, 8, 18, 2, 3, 27, 7, 1, 4, 6] \n",
            "\n",
            "\t**Encontrada mejor solucion: 2005 [0, 28, 32, 20, 35, 36, 31, 17, 37, 13, 5, 15, 14, 16, 19, 26, 12, 29, 41, 11, 10, 25, 23, 30, 34, 33, 38, 22, 24, 40, 39, 21, 9, 8, 18, 3, 2, 27, 7, 1, 4, 6] \n",
            "\n",
            "\t**Encontrada mejor solucion: 2001 [0, 28, 32, 20, 35, 36, 31, 17, 37, 13, 5, 15, 14, 16, 19, 26, 12, 41, 25, 11, 10, 29, 23, 30, 34, 33, 38, 22, 40, 24, 39, 21, 9, 8, 18, 3, 2, 27, 7, 4, 1, 6] \n",
            "\n",
            "\t**Encontrada mejor solucion: 1998 [0, 28, 32, 20, 35, 36, 31, 17, 37, 13, 5, 15, 14, 16, 19, 26, 12, 41, 25, 11, 18, 29, 23, 30, 34, 33, 38, 22, 40, 24, 39, 21, 9, 8, 10, 3, 2, 27, 7, 4, 1, 6] \n",
            "\n",
            "\t**Encontrada mejor solucion: 1990 [0, 27, 32, 20, 35, 36, 31, 17, 37, 13, 26, 15, 14, 16, 19, 5, 12, 29, 18, 11, 10, 8, 25, 30, 34, 33, 38, 22, 40, 24, 39, 21, 23, 41, 9, 28, 2, 3, 4, 1, 7, 6] \n",
            "\n",
            "\t**Encontrada mejor solucion: 1983 [0, 27, 32, 20, 35, 36, 31, 17, 37, 13, 26, 15, 14, 16, 19, 5, 12, 29, 18, 11, 10, 8, 28, 30, 34, 33, 38, 22, 40, 24, 39, 21, 23, 41, 9, 25, 2, 3, 4, 1, 7, 6] \n",
            "\n",
            "\t**Encontrada mejor solucion: 1964 [0, 27, 32, 20, 35, 36, 31, 17, 37, 13, 26, 15, 14, 16, 19, 5, 29, 12, 18, 11, 10, 8, 28, 30, 34, 33, 38, 22, 40, 24, 39, 21, 23, 41, 9, 25, 4, 3, 2, 1, 7, 6] \n",
            "\n",
            "\t**Encontrada mejor solucion: 1963 [0, 27, 32, 20, 35, 36, 31, 17, 37, 13, 26, 15, 14, 16, 19, 5, 29, 10, 18, 11, 12, 8, 28, 30, 34, 33, 38, 22, 40, 24, 39, 21, 23, 41, 9, 25, 4, 3, 2, 1, 7, 6] \n",
            "\n",
            "\t**Encontrada mejor solucion: 1943 [0, 27, 32, 20, 35, 36, 31, 17, 37, 15, 26, 13, 14, 16, 19, 5, 29, 10, 18, 11, 12, 8, 28, 30, 34, 33, 38, 22, 40, 24, 39, 21, 23, 41, 9, 25, 4, 3, 2, 1, 7, 6] \n",
            "\n",
            "\t**Encontrada mejor solucion: 1935 [0, 27, 32, 20, 35, 36, 31, 17, 37, 15, 26, 13, 14, 16, 19, 5, 29, 10, 8, 11, 12, 18, 28, 30, 34, 33, 38, 22, 40, 24, 39, 21, 23, 41, 9, 25, 4, 3, 2, 1, 7, 6] \n",
            "\n",
            "\t**Encontrada mejor solucion: 1928 [0, 27, 32, 20, 35, 36, 31, 17, 37, 15, 26, 13, 14, 16, 19, 5, 10, 29, 8, 11, 12, 18, 28, 30, 34, 33, 38, 22, 40, 24, 39, 21, 23, 41, 9, 25, 4, 3, 2, 1, 7, 6] \n",
            "\n",
            "\t**Encontrada mejor solucion: 1908 [0, 27, 32, 20, 35, 36, 31, 17, 37, 15, 26, 5, 14, 16, 19, 13, 10, 29, 8, 11, 12, 18, 28, 30, 34, 33, 38, 22, 40, 24, 39, 21, 23, 41, 9, 25, 4, 3, 2, 1, 7, 6] \n",
            "\n",
            "\t**Encontrada mejor solucion: 1884 [0, 27, 32, 20, 35, 36, 31, 17, 37, 15, 14, 5, 26, 16, 19, 13, 18, 10, 8, 11, 12, 25, 28, 30, 34, 33, 38, 22, 40, 24, 39, 21, 23, 41, 9, 29, 6, 1, 2, 4, 7, 3] \n",
            "\n",
            "\t**Encontrada mejor solucion: 1835 [0, 7, 32, 20, 35, 36, 31, 17, 37, 15, 14, 5, 26, 16, 19, 13, 18, 10, 8, 11, 12, 25, 28, 30, 34, 33, 38, 22, 40, 24, 39, 21, 23, 41, 9, 29, 6, 1, 2, 4, 27, 3] \n",
            "\n",
            "\t**Encontrada mejor solucion: 1825 [0, 7, 32, 20, 35, 36, 31, 17, 37, 15, 14, 5, 26, 16, 19, 13, 18, 10, 8, 11, 12, 25, 28, 30, 34, 33, 38, 22, 24, 40, 39, 21, 23, 41, 9, 29, 6, 1, 2, 4, 27, 3] \n",
            "\n",
            "\t**Encontrada mejor solucion: 1823 [0, 7, 32, 20, 35, 36, 31, 17, 37, 15, 16, 5, 26, 14, 19, 13, 18, 10, 8, 11, 12, 25, 28, 30, 34, 33, 38, 22, 24, 40, 39, 21, 23, 41, 9, 29, 6, 1, 2, 3, 27, 4] \n",
            "\n",
            "\t**Encontrada mejor solucion: 1811 [0, 7, 32, 20, 35, 36, 31, 17, 37, 15, 16, 5, 26, 14, 19, 13, 18, 10, 8, 11, 12, 25, 29, 30, 34, 33, 38, 22, 24, 40, 39, 21, 23, 41, 9, 28, 6, 1, 2, 3, 27, 4] \n",
            "\n",
            "\t**Encontrada mejor solucion: 1793 [0, 7, 32, 20, 35, 36, 31, 17, 37, 15, 16, 5, 26, 14, 19, 13, 18, 10, 8, 11, 12, 25, 29, 30, 34, 33, 38, 22, 24, 40, 39, 21, 23, 41, 9, 28, 6, 1, 3, 2, 27, 4] \n",
            "\n",
            "\t**Encontrada mejor solucion: 1760 [0, 32, 31, 20, 35, 36, 7, 17, 37, 16, 15, 13, 19, 14, 26, 5, 18, 12, 11, 10, 9, 8, 29, 30, 34, 33, 38, 22, 39, 24, 40, 21, 23, 41, 25, 3, 6, 1, 4, 28, 27, 2] \n",
            "\n",
            "\t**Encontrada mejor solucion: 1731 [0, 32, 31, 20, 35, 36, 7, 17, 37, 16, 15, 13, 19, 14, 5, 26, 18, 12, 11, 10, 9, 8, 29, 30, 34, 33, 38, 22, 39, 24, 40, 21, 23, 41, 25, 3, 6, 1, 4, 28, 27, 2] \n",
            "\n",
            "\t**Encontrada mejor solucion: 1712 [0, 32, 31, 20, 35, 36, 7, 17, 37, 15, 16, 13, 19, 14, 5, 26, 18, 12, 11, 10, 9, 8, 29, 30, 34, 33, 38, 22, 39, 24, 40, 21, 23, 41, 25, 3, 6, 1, 4, 28, 27, 2] \n",
            "\n",
            "\t**Encontrada mejor solucion: 1646 [0, 32, 31, 20, 35, 36, 7, 17, 37, 15, 16, 14, 19, 13, 5, 26, 18, 12, 11, 10, 9, 8, 29, 30, 34, 33, 38, 22, 39, 24, 21, 40, 23, 41, 25, 3, 6, 1, 4, 28, 27, 2] \n",
            "\n",
            "\t**Encontrada mejor solucion: 1638 [0, 32, 31, 20, 35, 36, 7, 17, 37, 15, 16, 14, 19, 13, 5, 26, 18, 12, 11, 10, 9, 8, 29, 30, 34, 33, 38, 22, 39, 24, 21, 40, 23, 41, 25, 4, 6, 1, 27, 2, 3, 28] \n",
            "\n",
            "\t**Encontrada mejor solucion: 1618 [0, 32, 31, 20, 35, 36, 7, 17, 37, 15, 16, 14, 19, 13, 5, 26, 18, 12, 11, 10, 9, 8, 29, 30, 34, 33, 38, 22, 39, 21, 24, 40, 23, 41, 25, 4, 6, 1, 27, 2, 3, 28] \n",
            "\n",
            "\t**Encontrada mejor solucion: 1590 [0, 32, 7, 20, 35, 36, 31, 17, 37, 15, 16, 14, 19, 13, 5, 26, 18, 12, 11, 10, 9, 8, 29, 30, 34, 33, 38, 22, 39, 21, 24, 40, 23, 41, 25, 4, 6, 1, 27, 2, 3, 28] \n",
            "\n",
            "\t**Encontrada mejor solucion: 1585 [0, 1, 32, 20, 35, 36, 31, 17, 37, 15, 16, 14, 19, 13, 5, 26, 18, 12, 10, 25, 8, 9, 29, 30, 34, 33, 38, 22, 39, 21, 24, 40, 23, 41, 11, 4, 6, 7, 28, 2, 27, 3] \n",
            "\n",
            "\t**Encontrada mejor solucion: 1582 [0, 32, 20, 33, 35, 36, 31, 17, 37, 15, 16, 14, 19, 13, 26, 18, 12, 11, 25, 41, 8, 9, 29, 28, 30, 34, 38, 22, 39, 24, 40, 21, 23, 10, 5, 7, 27, 3, 2, 4, 6, 1] \n",
            "\n",
            "\t**Encontrada mejor solucion: 1563 [0, 32, 33, 20, 35, 36, 31, 17, 37, 15, 16, 14, 19, 13, 5, 18, 12, 11, 25, 41, 23, 9, 29, 28, 30, 34, 38, 22, 39, 24, 40, 21, 8, 10, 27, 2, 26, 6, 4, 3, 7, 1] \n",
            "\n",
            "\t**Encontrada mejor solucion: 1547 [0, 32, 33, 20, 35, 36, 31, 17, 37, 14, 15, 16, 19, 13, 5, 18, 12, 11, 25, 41, 23, 8, 29, 28, 30, 34, 38, 22, 39, 24, 40, 21, 9, 10, 26, 2, 27, 3, 4, 6, 1, 7] \n",
            "\n",
            "\t**Encontrada mejor solucion: 1544 [0, 32, 33, 20, 35, 36, 31, 17, 37, 16, 15, 14, 19, 13, 5, 18, 12, 11, 25, 41, 23, 8, 29, 28, 30, 34, 38, 22, 39, 24, 40, 21, 9, 10, 26, 2, 27, 3, 4, 6, 1, 7] \n",
            "\n",
            "\t**Encontrada mejor solucion: 1525 [0, 34, 33, 20, 35, 36, 31, 17, 37, 15, 16, 14, 19, 13, 5, 18, 12, 11, 25, 41, 23, 8, 29, 28, 30, 32, 38, 22, 39, 24, 40, 21, 9, 10, 26, 2, 27, 4, 3, 6, 1, 7] \n",
            "\n",
            "\t**Encontrada mejor solucion: 1508 [0, 34, 33, 20, 35, 36, 31, 17, 37, 15, 16, 14, 19, 13, 5, 18, 12, 11, 25, 41, 23, 8, 29, 28, 30, 32, 38, 22, 39, 24, 40, 21, 9, 10, 26, 4, 27, 2, 3, 6, 1, 7] \n",
            "\n",
            "\t**Encontrada mejor solucion: 1507 [0, 34, 33, 20, 35, 36, 31, 17, 37, 15, 14, 16, 19, 13, 5, 26, 12, 11, 25, 41, 23, 8, 29, 28, 32, 30, 38, 22, 39, 24, 40, 21, 9, 10, 18, 4, 2, 27, 3, 7, 6, 1] \n",
            "\n",
            "\t**Encontrada mejor solucion: 1503 [0, 20, 34, 33, 35, 36, 31, 17, 37, 15, 14, 16, 19, 13, 5, 26, 12, 11, 25, 41, 23, 8, 29, 28, 32, 30, 38, 22, 39, 24, 40, 21, 9, 10, 18, 2, 27, 3, 4, 6, 7, 1] \n",
            "\n",
            "\t**Encontrada mejor solucion: 1496 [0, 34, 33, 20, 35, 36, 31, 17, 37, 16, 15, 14, 19, 13, 5, 26, 18, 12, 11, 41, 23, 8, 29, 28, 32, 30, 38, 22, 39, 24, 40, 21, 9, 25, 10, 2, 27, 3, 4, 6, 1, 7] \n",
            "\n",
            "\t**Encontrada mejor solucion: 1495 [0, 34, 33, 20, 35, 36, 31, 17, 37, 15, 16, 14, 19, 13, 26, 5, 18, 12, 11, 10, 8, 9, 29, 28, 30, 32, 38, 22, 39, 21, 24, 40, 23, 41, 25, 4, 2, 27, 3, 6, 1, 7] \n",
            "\n",
            "\t**Encontrada mejor solucion: 1484 [0, 34, 33, 20, 35, 36, 31, 17, 37, 15, 16, 14, 19, 13, 26, 5, 18, 12, 11, 25, 8, 9, 29, 28, 30, 32, 38, 22, 39, 21, 24, 40, 23, 41, 10, 4, 2, 27, 3, 6, 1, 7] \n",
            "\n",
            "\t**Encontrada mejor solucion: 1476 [0, 20, 34, 33, 35, 36, 31, 17, 37, 15, 14, 16, 19, 13, 5, 26, 18, 12, 11, 25, 8, 9, 29, 28, 30, 32, 38, 22, 39, 21, 24, 40, 23, 41, 10, 4, 2, 27, 3, 6, 1, 7] \n",
            "\n",
            "\t**Encontrada mejor solucion: 1467 [0, 34, 20, 33, 35, 36, 31, 17, 37, 15, 16, 14, 19, 13, 5, 26, 18, 12, 11, 25, 10, 9, 29, 28, 32, 30, 38, 22, 39, 21, 24, 40, 23, 41, 8, 4, 2, 27, 3, 6, 1, 7] \n",
            "\n",
            "\t**Encontrada mejor solucion: 1461 [0, 34, 20, 33, 35, 36, 31, 17, 37, 15, 16, 14, 19, 13, 5, 26, 18, 12, 11, 25, 8, 9, 29, 28, 32, 30, 38, 22, 39, 21, 24, 40, 23, 41, 10, 4, 2, 27, 3, 6, 1, 7] \n",
            "\n",
            "\t**Encontrada mejor solucion: 1449 [0, 34, 33, 20, 35, 36, 31, 17, 37, 15, 16, 14, 19, 13, 5, 26, 18, 12, 11, 25, 8, 9, 29, 28, 32, 30, 38, 22, 39, 21, 24, 40, 23, 41, 10, 4, 2, 27, 3, 6, 1, 7] \n",
            "\n",
            "\t**Encontrada mejor solucion: 1440 [0, 34, 33, 20, 35, 36, 31, 17, 37, 15, 14, 16, 19, 13, 5, 26, 18, 12, 11, 25, 10, 8, 29, 28, 32, 30, 38, 22, 39, 21, 24, 40, 41, 23, 9, 27, 2, 3, 4, 6, 1, 7] \n",
            "\n",
            "\t**Encontrada mejor solucion: 1438 [0, 34, 33, 20, 35, 36, 31, 17, 37, 15, 14, 16, 19, 13, 5, 26, 18, 12, 11, 25, 10, 8, 29, 28, 32, 30, 38, 22, 39, 21, 24, 40, 9, 23, 41, 27, 2, 3, 4, 6, 1, 7] \n",
            "\n",
            "\t**Encontrada mejor solucion: 1434 [0, 34, 33, 20, 35, 36, 31, 17, 37, 15, 16, 14, 19, 13, 5, 26, 18, 12, 11, 25, 10, 8, 29, 28, 32, 30, 38, 22, 39, 21, 24, 40, 9, 23, 41, 27, 2, 3, 4, 6, 1, 7] \n",
            "\n",
            "\t**Encontrada mejor solucion: 1431 [0, 34, 33, 20, 35, 36, 31, 17, 37, 15, 16, 14, 19, 13, 5, 26, 18, 12, 11, 25, 10, 8, 29, 28, 32, 30, 38, 22, 39, 21, 24, 40, 9, 23, 41, 2, 27, 3, 4, 6, 1, 7] \n",
            "\n",
            "\t**Encontrada mejor solucion: 1430 [0, 34, 33, 20, 35, 36, 31, 17, 37, 15, 16, 14, 19, 13, 5, 26, 18, 12, 11, 25, 10, 8, 29, 28, 32, 30, 38, 22, 39, 21, 24, 40, 23, 41, 9, 27, 2, 3, 4, 6, 1, 7] \n",
            "\n",
            "\t**Encontrada mejor solucion: 1427 [0, 34, 33, 20, 35, 36, 31, 17, 37, 15, 16, 14, 19, 13, 5, 26, 18, 12, 11, 25, 10, 8, 29, 28, 32, 30, 38, 22, 39, 21, 24, 40, 23, 41, 9, 2, 27, 3, 4, 6, 1, 7] \n",
            "\n",
            "La mejor solución encontrada es : 1427 \n",
            "Recorrido: [0, 34, 33, 20, 35, 36, 31, 17, 37, 15, 16, 14, 19, 13, 5, 26, 18, 12, 11, 25, 10, 8, 29, 28, 32, 30, 38, 22, 39, 21, 24, 40, 23, 41, 9, 2, 27, 3, 4, 6, 1, 7]\n"
          ],
          "name": "stdout"
        }
      ]
    },
    {
      "cell_type": "markdown",
      "metadata": {
        "id": "NTncaWTFIfr6",
        "colab_type": "text"
      },
      "source": [
        "**Colonia de Hormigas**"
      ]
    },
    {
      "cell_type": "code",
      "metadata": {
        "id": "BGbDPMONldEw",
        "colab_type": "code",
        "colab": {}
      },
      "source": [
        "#Funciones\n",
        "def Add_Nodo(problem, H ,T ) :\n",
        "  #Establecer una una funcion de probabilidad para \n",
        "  # añadir un nuevo nodo dependiendo de los nodos mas cercanos y de las feromonas depositadas\n",
        "  Nodos = list(problem.get_nodes())\n",
        "  return random.choice(   list(set(range(1,len(Nodos))) - set(H) )  )\n",
        "\n",
        "\n",
        "def Incrementa_Feromona(problem, T, H):\n",
        "  #Incrementar segun la calidad de la solución. Añadir una cantidad inversamente proporcional a la distancia total \n",
        "  for i in range(len(H)-1):\n",
        "    T[H[i]][H[i+1]] += 1000/distancia_total(H, problem)\n",
        "  return T\n",
        "\n",
        "def Evaporar_Feromonas(T):\n",
        "  #Podemos elegir diferentes funciones de evaporación dependiendo de la cantidad actual y de la suma total de feromonas depositadas,...\n",
        "  #Evapora 0.3 el valor de la feromona, sin que baje de 1\n",
        "  T = [[ max(T[i][j] - 0.3 , 1) for i in range(len(Nodos)) ] for j in range(len(Nodos))]\n",
        "  return T"
      ],
      "execution_count": 0,
      "outputs": []
    },
    {
      "cell_type": "code",
      "metadata": {
        "id": "8LZKxw-MD31e",
        "colab_type": "code",
        "colab": {}
      },
      "source": [
        "def Add_Nodo_feromona(problem, H ,T):\n",
        "    # funcion para añadir un nuevo nodo dependiendo de: los nodos mas cercanos, feromonas \n",
        "    Nodos = list(problem.get_nodes())\n",
        "    opciones = list(set(range(1,len(Nodos)))-set(H)) \n",
        "    aux = [0 for i in range(len(opciones))] # almacenar feromonas\n",
        "    probabilidad = [0 for i in range(len(opciones))] # almacena probabilidad\n",
        "    denominador = 0\n",
        "\n",
        "    #una vez almacenado recorro el vector para comparar cantida de feromonas\n",
        "    #dejadas y la distacia del ultimo punto recorrido de la hormiga y el siguiente\n",
        "    #posible punto (inv_dist) \n",
        "    \n",
        "    for i in range(len(opciones)): #recorro todas las opciones\n",
        "        inv_dist = 1000/distancia(H[-1], opciones[i], problem)\n",
        "        cant_ferom_arista = T[H[-1]][opciones[i]]\n",
        "        media = math.sqrt(((cant_ferom_arista)**2+(inv_dist)**2)/2) # mejor feromona, distancia\n",
        "        aux[i] = media # guardo en el vector de feromonas\n",
        "        denominador += media\n",
        "    \n",
        "    #inicializo las probabilidades, tomo la mayor\n",
        "    mayor_nodo = 0\n",
        "    maxim_prob = 0\n",
        "    \n",
        "    for i in range(len(opciones)):\n",
        "        probabilidad[i] = aux[i]/denominador\n",
        "        if probabilidad[i] > maxim_prob: #si es la maxima probalilidad lo guardo\n",
        "            maxim_prob = probabilidad[i]\n",
        "            mayor_nodo = i #guardo el nodo con mayor probabilidad\n",
        "    #Devuelve el nodo con mayor probabilidad\n",
        "    return opciones[mayor_nodo]"
      ],
      "execution_count": 0,
      "outputs": []
    },
    {
      "cell_type": "code",
      "metadata": {
        "id": "ICSTHQ9blpRF",
        "colab_type": "code",
        "colab": {}
      },
      "source": [
        "#Colonia de Hormigas\n",
        "\n",
        "def hormigas(problem, N, feromona) :\n",
        "  #problem = datos del problema\n",
        "  #N = Número de agentes(hormigas)\n",
        "    \n",
        "    # Nodos\n",
        "  Nodos = list(problem.get_nodes())\n",
        "    #Aristas\n",
        "  Aristas = list(problem.get_edges()) \n",
        "  \n",
        "  #Inicializa las aristas con una cantidad inicial de feromonas:1\n",
        "  T = [[ 1 for _ in range(len(Nodos)) ] for _ in range(len(Nodos))]\n",
        "  \n",
        "  #Se generan los agentes(hormigas) que serán estructuras de caminos desde 0\n",
        "  Hormiga = [[0] for _ in range(N)]\n",
        "#######################################\n",
        "  #Recorre cada agente construyendo la solución\n",
        "  for h in range(N) :\n",
        "    #print(\"\\nAgente:\", h)\n",
        "    #Para cada agente se construye un camino\n",
        "    for i in range(len(Nodos)-1) :\n",
        "      \n",
        "      #Elige el siguiente nodo\n",
        "      if feromona:\n",
        "         Nuevo_Nodo =Add_Nodo_feromona(problem, Hormiga[h] , T)\n",
        "      else:\n",
        "         Nuevo_Nodo =  Add_Nodo(problem, Hormiga[h] ,T )\n",
        "            \n",
        "      Hormiga[h].append(Nuevo_Nodo)     \n",
        "    \n",
        "    #Incrementa feromonas en esa arista \n",
        "    T = Incrementa_Feromona(problem, T, Hormiga[h] )\n",
        "    #Evapora Feromonas  \n",
        "    T = Evaporar_Feromonas(T)\n",
        "    #print(\"Feromonas(2)\", T)\n",
        "\n",
        "    #Seleccionamos el mejor agente\n",
        "  mejor_solucion = []\n",
        "  mejor_distancia = 10e100\n",
        "  for h in range(N) :\n",
        "    distancia_actual = distancia_total(Hormiga[h], problem)\n",
        "    if distancia_actual < mejor_distancia:\n",
        "      mejor_solucion = Hormiga[h]\n",
        "      mejor_distancia =distancia_actual\n",
        "  \n",
        "  print(\"\\nLa mejor solución encontrada es: \" , mejor_distancia ,'\\nRecorrido:', mejor_solucion)\n"
      ],
      "execution_count": 0,
      "outputs": []
    },
    {
      "cell_type": "code",
      "metadata": {
        "id": "H8ET4JvqJmOl",
        "colab_type": "code",
        "colab": {
          "base_uri": "https://localhost:8080/",
          "height": 139
        },
        "outputId": "84316456-0f7d-48b8-b394-7b461eedf493"
      },
      "source": [
        "hormigas(problem, 100 ,False)\n",
        "hormigas(problem, 100 ,True)"
      ],
      "execution_count": 21,
      "outputs": [
        {
          "output_type": "stream",
          "text": [
            "\n",
            "La mejor solución encontrada es:  4233 \n",
            "Recorrido: [0, 11, 27, 1, 41, 30, 26, 31, 32, 13, 20, 37, 39, 21, 33, 35, 34, 36, 14, 12, 23, 9, 8, 22, 40, 2, 6, 24, 17, 29, 19, 15, 28, 38, 25, 18, 5, 7, 16, 3, 10, 4]\n",
            "\n",
            "La mejor solución encontrada es:  1630 \n",
            "Recorrido: [0, 1, 6, 4, 3, 2, 27, 28, 29, 30, 32, 34, 20, 33, 31, 17, 37, 15, 14, 16, 19, 13, 5, 26, 18, 12, 11, 25, 10, 8, 9, 23, 41, 21, 39, 22, 38, 24, 40, 7, 36, 35]\n"
          ],
          "name": "stdout"
        }
      ]
    },
    {
      "cell_type": "markdown",
      "metadata": {
        "id": "aWW9iDy1J5xx",
        "colab_type": "text"
      },
      "source": [
        "Para 100 hormigas, tomando la elección de nodos aleatorio, se obtuvo un resultado muy alto para una solución aceptable, no llegamos a valores muy buenos. Mediante la selección de nodos con las mejores distancias y feromonas, con 100 hormigas, se pudo conseguir un valor mucho mejor, no se obtuvo un valor optimo, pero es muy aceptable."
      ]
    }
  ]
}