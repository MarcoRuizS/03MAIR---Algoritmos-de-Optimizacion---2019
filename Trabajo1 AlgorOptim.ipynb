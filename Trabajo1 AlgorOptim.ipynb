{
 "cells": [
  {
   "cell_type": "markdown",
   "metadata": {},
   "source": [
    "### Codigo Torres"
   ]
  },
  {
   "cell_type": "code",
   "execution_count": 27,
   "metadata": {},
   "outputs": [
    {
     "name": "stdout",
     "output_type": "stream",
     "text": [
      "lleva la ficha desde 1 hasta 3\n",
      "lleva la ficha desde 1 hasta 2\n",
      "lleva la ficha desde 3 hasta 2\n",
      "lleva la ficha desde 1 hasta 3\n",
      "lleva la ficha desde 2 hasta 1\n",
      "lleva la ficha desde 2 hasta 3\n",
      "lleva la ficha desde 1 hasta 3\n"
     ]
    }
   ],
   "source": [
    "def torres(N,desde,hasta): #N: numero de fichas, torres\n",
    "    if N==1: #si la torre igual a 1 \n",
    "        print('lleva la ficha desde', desde, 'hasta',hasta)\n",
    "    else:\n",
    "        torres(N-1, desde, 6-desde-hasta)\n",
    "        print('lleva la ficha desde', desde, 'hasta',hasta)\n",
    "        torres(N-1, 6-desde-hasta, hasta)\n",
    "\n",
    "torres(3,1,3)"
   ]
  },
  {
   "cell_type": "markdown",
   "metadata": {},
   "source": [
    "### Codigo Damas"
   ]
  },
  {
   "cell_type": "code",
   "execution_count": 17,
   "metadata": {},
   "outputs": [],
   "source": [
    "def reinas (N, solucion, etapa): #Tamano del tablero\n",
    "    for i in range(1,N+1):\n",
    "        solucion[etapa]=i\n",
    "        \n",
    "        if es_prometedora(solucion,etapa):\n",
    "            if etapa == N-1 :\n",
    "                print('\\n\\n solucion es:')\n",
    "                print(solucion)\n",
    "            else:\n",
    "                reinas(N,solucion,etapa+1)\n",
    "        else:\n",
    "            None\n",
    "        solucion[etapa]=0\n",
    "\n",
    "def es_prometedora(SOLUCION, etapa):\n",
    "  #Si la solucion tiene dos soluciones iguales no es valida  Dos reinas en la misma \n",
    "    for i in range(etapa+1):\n",
    "    #print('el valor' + str(SOLUCION[i])+'esta'+ str(SOLUCION[I])) + 'VECES')\n",
    "        if SOLUCION.count(SOLUCION[i])>1:\n",
    "              return False\n",
    "    #Verifica las Diagonales\n",
    "        for j in range(i+1, etapa+1):\n",
    "          #pront('comprobando la diagonal'+str(i)+\"y\"+str(j))\n",
    "            if abs(i-j)==abs(SOLUCION[i]-SOLUCION[j]): return False\n",
    "    return True\n",
    "\n",
    "# reinas(4,4,2)"
   ]
  },
  {
   "cell_type": "code",
   "execution_count": 19,
   "metadata": {},
   "outputs": [
    {
     "name": "stdout",
     "output_type": "stream",
     "text": [
      "\n",
      "\n",
      " solucion es:\n",
      "[2, 4, 1, 3]\n",
      "\n",
      "\n",
      " solucion es:\n",
      "[3, 1, 4, 2]\n"
     ]
    }
   ],
   "source": [
    "import numpy as np\n",
    "\n",
    "N = 4\n",
    "solucion =  [0] * N\n",
    "etapa = 0\n",
    "reinas (N, solucion, etapa)"
   ]
  },
  {
   "cell_type": "markdown",
   "metadata": {},
   "source": [
    "### Puntos Cercanos"
   ]
  },
  {
   "cell_type": "code",
   "execution_count": 7,
   "metadata": {},
   "outputs": [
    {
     "name": "stdout",
     "output_type": "stream",
     "text": [
      "Lista: 10\n",
      "[(0, 0), (3, 10), (12, 0), (5, 32), (10, 2), (0, 0), (23, 33), (4, 3)]\n"
     ]
    },
    {
     "ename": "TypeError",
     "evalue": "list indices must be integers or slices, not tuple",
     "output_type": "error",
     "traceback": [
      "\u001b[1;31m---------------------------------------------------------------------------\u001b[0m",
      "\u001b[1;31mTypeError\u001b[0m                                 Traceback (most recent call last)",
      "\u001b[1;32m<ipython-input-7-9db6447468e1>\u001b[0m in \u001b[0;36m<module>\u001b[1;34m\u001b[0m\n\u001b[0;32m     29\u001b[0m \u001b[0mdistancia_fuerza_bruta3\u001b[0m\u001b[1;33m(\u001b[0m\u001b[0mLISTA_2D\u001b[0m\u001b[1;33m)\u001b[0m\u001b[1;33m\u001b[0m\u001b[1;33m\u001b[0m\u001b[0m\n\u001b[0;32m     30\u001b[0m \u001b[1;31m# LISTA_2D[0]\u001b[0m\u001b[1;33m\u001b[0m\u001b[1;33m\u001b[0m\u001b[1;33m\u001b[0m\u001b[0m\n\u001b[1;32m---> 31\u001b[1;33m \u001b[0mgraf\u001b[0m\u001b[1;33m(\u001b[0m\u001b[0mLISTA_2D\u001b[0m\u001b[1;33m,\u001b[0m\u001b[0ma\u001b[0m\u001b[1;33m[\u001b[0m\u001b[1;36m1\u001b[0m\u001b[1;33m]\u001b[0m\u001b[1;33m,\u001b[0m\u001b[0ma\u001b[0m\u001b[1;33m[\u001b[0m\u001b[1;36m2\u001b[0m\u001b[1;33m]\u001b[0m\u001b[1;33m)\u001b[0m\u001b[1;33m\u001b[0m\u001b[1;33m\u001b[0m\u001b[0m\n\u001b[0m",
      "\u001b[1;32m<ipython-input-4-fce8ddd0a816>\u001b[0m in \u001b[0;36mgraf\u001b[1;34m(Matriz, Punto1, Punto2)\u001b[0m\n\u001b[0;32m      3\u001b[0m     \u001b[1;32mimport\u001b[0m \u001b[0mnumpy\u001b[0m \u001b[1;32mas\u001b[0m \u001b[0mnp\u001b[0m\u001b[1;33m\u001b[0m\u001b[1;33m\u001b[0m\u001b[0m\n\u001b[0;32m      4\u001b[0m \u001b[1;33m\u001b[0m\u001b[0m\n\u001b[1;32m----> 5\u001b[1;33m     \u001b[0mx_data\u001b[0m \u001b[1;33m=\u001b[0m \u001b[0mMatriz\u001b[0m\u001b[1;33m[\u001b[0m\u001b[1;33m:\u001b[0m\u001b[1;33m,\u001b[0m\u001b[1;36m0\u001b[0m\u001b[1;33m]\u001b[0m\u001b[1;33m\u001b[0m\u001b[1;33m\u001b[0m\u001b[0m\n\u001b[0m\u001b[0;32m      6\u001b[0m     \u001b[0my_data\u001b[0m \u001b[1;33m=\u001b[0m \u001b[0mMatriz\u001b[0m\u001b[1;33m[\u001b[0m\u001b[1;33m:\u001b[0m\u001b[1;33m,\u001b[0m\u001b[1;36m1\u001b[0m\u001b[1;33m]\u001b[0m\u001b[1;33m\u001b[0m\u001b[1;33m\u001b[0m\u001b[0m\n\u001b[0;32m      7\u001b[0m \u001b[1;31m#     x_data = Matriz[:0]\u001b[0m\u001b[1;33m\u001b[0m\u001b[1;33m\u001b[0m\u001b[1;33m\u001b[0m\u001b[0m\n",
      "\u001b[1;31mTypeError\u001b[0m: list indices must be integers or slices, not tuple"
     ]
    }
   ],
   "source": [
    "#Distancia entre dos puntos 3D\n",
    "from scipy.spatial import distance\n",
    "def distancia_fuerza_bruta3(L):\n",
    "    mejor_distancia = 10000\n",
    "    R=L[0]\n",
    "#     L=list(set(L))\n",
    "    a =0\n",
    "#     print('L=',L)\n",
    "    for i in range(len(L)):\n",
    "        for j in range(i+1, len(L)):\n",
    "            D=distance.euclidean(R,L[j])\n",
    "#             print(D)\n",
    "            if D < mejor_distancia and D!=0:\n",
    "                a=distance.euclidean(R,L[j])\n",
    "                mejor_distancia = D\n",
    "                x=i\n",
    "                y=j\n",
    "    return[a,x,y]\n",
    "\n",
    "# LISTA_2D=[random.randint(0,1000) for _ in range(1000)]\n",
    "# LISTA_2D=[(0,0,0),(3,10,0),(12,0,0),(5,32,0),(10,2,0),(0,0,0),(23,33,2),(4,3,0)]\n",
    "LISTA_2D=[(0,0),(3,10),(12,0),(5,32),(10,2),(0,0),(23,33),(4,3)]\n",
    "\n",
    "\n",
    "q=LISTA_2D[1][1]\n",
    "print('Lista:',q)\n",
    "\n",
    "print(LISTA_2D)\n",
    "distancia_fuerza_bruta3(LISTA_2D)\n",
    "# LISTA_2D[0]\n",
    "graf(LISTA_2D,a[1],a[2])"
   ]
  },
  {
   "cell_type": "code",
   "execution_count": null,
   "metadata": {},
   "outputs": [
    {
     "name": "stdout",
     "output_type": "stream",
     "text": [
      "[[0.00462966 0.15569922]\n",
      " [0.44008854 0.63924819]\n",
      " [0.95674503 0.79698765]\n",
      " ...\n",
      " [0.99042033 0.16515366]\n",
      " [0.05540569 0.8391483 ]\n",
      " [0.3745811  0.47695215]]\n",
      "------------------------\n"
     ]
    }
   ],
   "source": [
    "import random\n",
    "import numpy\n",
    "import time\n",
    "\n",
    "# print(\"Ingrese cuantos numeros aleatorios desea obtener\")\n",
    "# n=int(input())\n",
    "aleatorios = numpy.random.random((100000,2))\n",
    "print(aleatorios)\n",
    "# print(type(aleatorios))\n",
    "print('------------------------')\n",
    "# aleatorios[0]\n",
    "\n",
    "\n",
    "\n",
    "\n",
    "start = time.time()\n",
    "a=distancia_fuerza_bruta3(aleatorios)\n",
    "print(a)\n",
    "end = time.time()\n",
    "print ('Completed in: ',end-start)\n",
    "\n",
    "a[1]\n",
    "\n",
    "graf(aleatorios,a[1],a[2])"
   ]
  },
  {
   "cell_type": "code",
   "execution_count": 4,
   "metadata": {},
   "outputs": [],
   "source": [
    "def graf(Matriz,Punto1,Punto2):\n",
    "    import matplotlib.pyplot as plt\n",
    "    import numpy as np\n",
    "  \n",
    "    x_data = Matriz[:,0]\n",
    "    y_data = Matriz[:,1]\n",
    "#     x_data = Matriz[:0]\n",
    "#     y_data = Matriz[:1]\n",
    "\n",
    "    scale = 25.0 \n",
    "    fig, ax=plt.subplots(figsize=(14,7))\n",
    "#     fig, ax = plt.subplots()\n",
    "\n",
    "    ax.scatter(x_data, y_data, alpha=0.8, c='red', s=scale, edgecolors='none')\n",
    "    ax.scatter(Matriz[Punto1][0], Matriz[Punto1][1], alpha=0.8, c='green', s=scale, edgecolors='none')\n",
    "    ax.scatter(Matriz[Punto2][0], Matriz[Punto2][1], alpha=0.8, c='blue', s=scale, edgecolors='none')\n",
    "    \n",
    "    \n",
    "    ax.legend()\n",
    "    plt.show()"
   ]
  },
  {
   "cell_type": "code",
   "execution_count": 20,
   "metadata": {},
   "outputs": [],
   "source": [
    "# import matplotlib.pyplot as plt\n",
    "# import numpy as np\n",
    "# import pandas as pd\n",
    "\n",
    "\n",
    "# aleatorios = np.random.random((100,2))\n",
    "# # print(aleatorios)\n",
    "# aleatorios[:,0]\n",
    "\n",
    "# y_data = aleatorios[:,0]\n",
    "# x_data = aleatorios[:,1]\n",
    "\n",
    "# scale = 25.0 \n",
    "# fig, ax = plt.subplots()\n",
    "# ax.scatter(x_data, y_data, alpha=0.8, c='red', s=scale, edgecolors='none')\n",
    "# ax.scatter(0.19060213, 0.37149492, alpha=0.8, c='blue', s=scale, edgecolors='none')\n",
    "\n",
    "# x=[1.05942049e-01,1.43339145e-01]\n",
    "# y=[4.89370552e-01,2.69633676e-01]\n",
    "# # print(x)\n",
    "# frame = pd.DataFrame(x,y)\n",
    "# frame.plot()\n",
    "# plt.show()\n",
    "\n",
    "# ax.legend()\n",
    "# plt.show()"
   ]
  }
 ],
 "metadata": {
  "kernelspec": {
   "display_name": "Python 3",
   "language": "python",
   "name": "python3"
  },
  "language_info": {
   "codemirror_mode": {
    "name": "ipython",
    "version": 3
   },
   "file_extension": ".py",
   "mimetype": "text/x-python",
   "name": "python",
   "nbconvert_exporter": "python",
   "pygments_lexer": "ipython3",
   "version": "3.7.3"
  }
 },
 "nbformat": 4,
 "nbformat_minor": 2
}
